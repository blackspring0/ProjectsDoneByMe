{
  "cells": [
    {
      "cell_type": "markdown",
      "source": [
        "# Downloading dataset from Kaggle"
      ],
      "metadata": {
        "id": "VYshw_iXbAdq"
      }
    },
    {
      "cell_type": "code",
      "source": [
        "!mkdir -p ~/.kaggle\n",
        "!mv kaggle.json ~/.kaggle\n",
        "!chmod 600 ~/.kaggle/kaggle.json"
      ],
      "metadata": {
        "id": "pcy8x91TYFvr"
      },
      "execution_count": null,
      "outputs": []
    },
    {
      "cell_type": "code",
      "source": [
        "!kaggle competitions download -c santander-customer-transaction-prediction"
      ],
      "metadata": {
        "id": "3r7SeJAbY3eB"
      },
      "execution_count": null,
      "outputs": []
    },
    {
      "cell_type": "code",
      "source": [
        "!unzip '/content/santander-customer-transaction-prediction.zip'"
      ],
      "metadata": {
        "id": "thRTYlwOZDnw"
      },
      "execution_count": null,
      "outputs": []
    },
    {
      "cell_type": "markdown",
      "source": [
        "# Importing modules"
      ],
      "metadata": {
        "id": "o7AanYGmbGJp"
      }
    },
    {
      "cell_type": "code",
      "source": [
        "import pandas as pd\n",
        "pd.set_option('display.max_rows',None)\n",
        "import numpy as np\n",
        "import matplotlib.pyplot as plt\n",
        "import seaborn as sns\n",
        "from sklearn.preprocessing import MinMaxScaler\n",
        "from sklearn.ensemble import RandomForestClassifier\n",
        "from sklearn.model_selection import train_test_split,GridSearchCV\n",
        "from sklearn.linear_model import LogisticRegression\n",
        "from sklearn.naive_bayes import GaussianNB\n",
        "from sklearn.tree import DecisionTreeClassifier\n",
        "from xgboost import XGBClassifier\n",
        "!pip install catboost\n",
        "from catboost import CatBoostClassifier\n",
        "from lightgbm import LGBMClassifier\n",
        "from sklearn.metrics import roc_auc_score\n"
      ],
      "metadata": {
        "id": "jIgdWAGBZFcw"
      },
      "execution_count": null,
      "outputs": []
    },
    {
      "cell_type": "markdown",
      "source": [
        "# Loading data to dataframe"
      ],
      "metadata": {
        "id": "WaGyp7j5bQNP"
      }
    },
    {
      "cell_type": "code",
      "source": [
        "train=pd.read_csv('train.csv')\n",
        "test0=pd.read_csv('test.csv')\n"
      ],
      "metadata": {
        "id": "rXPcB3s4ZkFe"
      },
      "execution_count": null,
      "outputs": []
    },
    {
      "cell_type": "code",
      "source": [
        "df=train.copy()\n",
        "test=test0.copy()"
      ],
      "metadata": {
        "id": "r54EqLvbZyVk"
      },
      "execution_count": null,
      "outputs": []
    },
    {
      "cell_type": "markdown",
      "source": [
        "# going through the data"
      ],
      "metadata": {
        "id": "kITiYfo2bXo9"
      }
    },
    {
      "cell_type": "code",
      "source": [
        "df.head()"
      ],
      "metadata": {
        "id": "Ht_mTVI0aCzc"
      },
      "execution_count": null,
      "outputs": []
    },
    {
      "cell_type": "code",
      "source": [
        "df.info()"
      ],
      "metadata": {
        "id": "wglp_n5CaEb2"
      },
      "execution_count": null,
      "outputs": []
    },
    {
      "cell_type": "code",
      "source": [
        "df.shape"
      ],
      "metadata": {
        "id": "SZHAIs9sawsI"
      },
      "execution_count": null,
      "outputs": []
    },
    {
      "cell_type": "code",
      "source": [
        "df.dtypes"
      ],
      "metadata": {
        "id": "X27KcCtEaL2D"
      },
      "execution_count": null,
      "outputs": []
    },
    {
      "cell_type": "markdown",
      "source": [
        "**No object datatype and only continous features**"
      ],
      "metadata": {
        "id": "EZXq2IoccFWA"
      }
    },
    {
      "cell_type": "markdown",
      "source": [
        "# checking for null values"
      ],
      "metadata": {
        "id": "qZFMNsGzbmlB"
      }
    },
    {
      "cell_type": "code",
      "source": [
        "df.isnull().sum()"
      ],
      "metadata": {
        "id": "WH3ccr0SaRzC"
      },
      "execution_count": null,
      "outputs": []
    },
    {
      "cell_type": "markdown",
      "source": [
        "**No null values**"
      ],
      "metadata": {
        "id": "D0G5obyZb_cJ"
      }
    },
    {
      "cell_type": "markdown",
      "source": [
        "Plotting target variable"
      ],
      "metadata": {
        "id": "ANrh8W8ZcxEp"
      }
    },
    {
      "cell_type": "code",
      "source": [
        "sns.histplot(df['target'], kde=True, color='blue')\n",
        "plt.title('Target')\n",
        "plt.xlabel('Value')\n",
        "plt.ylabel('Frequency')\n",
        "plt.grid(True)\n",
        "plt.show()"
      ],
      "metadata": {
        "id": "9aK4ht--b8Mj"
      },
      "execution_count": null,
      "outputs": []
    },
    {
      "cell_type": "markdown",
      "source": [
        "data is highly imbalanced"
      ],
      "metadata": {
        "id": "HX0OJ33celyY"
      }
    },
    {
      "cell_type": "code",
      "source": [
        "numeric=df.select_dtypes(include=['float64', 'int64']).columns.tolist()"
      ],
      "metadata": {
        "id": "Ekp8rCxijLwl"
      },
      "execution_count": null,
      "outputs": []
    },
    {
      "cell_type": "markdown",
      "source": [
        "**Plotting heatmap of continous variables**"
      ],
      "metadata": {
        "id": "if87gFOjez6o"
      }
    },
    {
      "cell_type": "code",
      "source": [
        "plt.figure(figsize=(30, 30))\n",
        "sns.heatmap(df[numeric].corr(), annot=True, cmap='coolwarm', fmt=\".2f\", linewidths=.5)\n",
        "plt.title('Correlation Matrix')\n",
        "plt.show()"
      ],
      "metadata": {
        "id": "PMBj0BWpdq-Z"
      },
      "execution_count": null,
      "outputs": []
    },
    {
      "cell_type": "code",
      "source": [
        "df.describe()"
      ],
      "metadata": {
        "id": "2eVCGWeX9aLo"
      },
      "execution_count": null,
      "outputs": []
    },
    {
      "cell_type": "markdown",
      "source": [
        "Plotting distribution graphs of features"
      ],
      "metadata": {
        "id": "gll_7J3tWefN"
      }
    },
    {
      "cell_type": "code",
      "source": [
        "plt.figure(figsize=(100,100))\n",
        "for index,feature in enumerate(numeric[0:202]):\n",
        "  plt.subplot(41, 5, index+1)\n",
        "  sns.histplot(df[feature], kde=True, color='blue')\n",
        "  plt.title(f'Distribution of {feature}')\n",
        "  plt.xlabel(f'{feature}')\n",
        "  plt.ylabel('Frequency')\n",
        "  plt.grid(True)\n",
        "plt.show()"
      ],
      "metadata": {
        "id": "mDohMbRqVXM8"
      },
      "execution_count": null,
      "outputs": []
    },
    {
      "cell_type": "markdown",
      "source": [
        "almost all features follow normal distribution but some of the features have skewed distribution"
      ],
      "metadata": {
        "id": "Slpltr6zbMdT"
      }
    },
    {
      "cell_type": "code",
      "source": [
        "\n",
        "plt.figure(figsize=(100,100))\n",
        "for index,feature in enumerate(numeric[0:202]):\n",
        "  plt.subplot(41, 5, index+1)\n",
        "  sns.boxplot(data=df[feature])\n",
        "  plt.xlabel(feature)\n",
        "  plt.ylabel('Value')\n",
        "plt.show()\n",
        ""
      ],
      "metadata": {
        "id": "ZTa5EfJH9czz"
      },
      "execution_count": null,
      "outputs": []
    },
    {
      "cell_type": "markdown",
      "source": [
        "we can see there are outliers,but removing outliers is risky since our dataset is highly imbalanced."
      ],
      "metadata": {
        "id": "dtNggOmsbXNU"
      }
    },
    {
      "cell_type": "markdown",
      "source": [
        "# Finding feature importance"
      ],
      "metadata": {
        "id": "qPrPpj9HiPQ0"
      }
    },
    {
      "cell_type": "markdown",
      "source": [
        "first lets drop the id code feature"
      ],
      "metadata": {
        "id": "diA7T1QslBQc"
      }
    },
    {
      "cell_type": "code",
      "source": [
        "df0=df.drop(columns=['ID_code'])\n",
        "test3=test.drop(columns=['ID_code'])\n"
      ],
      "metadata": {
        "id": "e4mc0KbXlA2m"
      },
      "execution_count": null,
      "outputs": []
    },
    {
      "cell_type": "code",
      "source": [
        "X = df0.drop(columns=['target'])\n",
        "y = df0['target']"
      ],
      "metadata": {
        "id": "8sF8u8qsQoiR"
      },
      "execution_count": null,
      "outputs": []
    },
    {
      "cell_type": "code",
      "source": [
        "X.head()"
      ],
      "metadata": {
        "id": "2rikZLVnp8lF"
      },
      "execution_count": null,
      "outputs": []
    },
    {
      "cell_type": "markdown",
      "source": [
        "# Scaling"
      ],
      "metadata": {
        "id": "ACxtP0XWohRK"
      }
    },
    {
      "cell_type": "code",
      "source": [
        "def scaling(df):\n",
        "  scaler=MinMaxScaler()\n",
        "  return pd.DataFrame(scaler.fit_transform(df),columns=df.columns)"
      ],
      "metadata": {
        "id": "uMT6gJXdmAyq"
      },
      "execution_count": null,
      "outputs": []
    },
    {
      "cell_type": "code",
      "source": [
        "scaled_df=scaling(X)\n",
        "scaled_test=scaling(test3)"
      ],
      "metadata": {
        "id": "IAWGQQPMmrGG"
      },
      "execution_count": null,
      "outputs": []
    },
    {
      "cell_type": "markdown",
      "source": [
        "# Traning with RF CLS"
      ],
      "metadata": {
        "id": "nkKuSV4xojzO"
      }
    },
    {
      "cell_type": "code",
      "source": [
        "\n",
        "X_train,X_test,y_train,y_test=train_test_split(scaled_df,y,stratify=y,test_size=0.2,random_state=42)"
      ],
      "metadata": {
        "id": "DdmYH7veQgw_"
      },
      "execution_count": null,
      "outputs": []
    },
    {
      "cell_type": "code",
      "source": [
        "rf_clf = RandomForestClassifier(n_estimators=100, class_weight='balanced', random_state=42)\n",
        "rf_clf.fit(X_train, y_train)\n",
        "\n",
        "feature_importance = rf_clf.feature_importances_\n",
        "\n",
        "\n",
        "feature_importance_df = pd.DataFrame({'Feature': X_train.columns, 'Importance': feature_importance})\n",
        "\n",
        "\n",
        "feature_importance_df = feature_importance_df.sort_values(by='Importance', ascending=False)\n",
        "\n",
        "plt.figure(figsize=(20, 20))\n",
        "sns.barplot(x='Importance', y='Feature', data=feature_importance_df, order=feature_importance_df.sort_values('Importance', ascending=False)['Feature'])\n",
        "plt.title('Feature Importance - Random Forest')\n",
        "plt.xlabel('Importance Score')\n",
        "plt.ylabel('Features')\n",
        "plt.show()"
      ],
      "metadata": {
        "id": "dAq4hI0OiO2E"
      },
      "execution_count": null,
      "outputs": []
    },
    {
      "cell_type": "code",
      "source": [
        "y_pred_proba = rf_clf.predict_proba(X_test)[:,1]\n",
        "roc_auc = roc_auc_score(y_test, y_pred_proba)\n",
        "\n",
        "print(\"ROC-AUC Score:\", roc_auc)"
      ],
      "metadata": {
        "id": "XGSCQg4fPpv9"
      },
      "execution_count": null,
      "outputs": []
    },
    {
      "cell_type": "markdown",
      "source": [
        "lets remove some features and check roc again"
      ],
      "metadata": {
        "id": "gqcZO8cXUY2S"
      }
    },
    {
      "cell_type": "code",
      "source": [
        "picked_features = []\n",
        "\n",
        "for feature, importance_score in zip(X_train.columns, feature_importance):\n",
        "    if importance_score >= 0.0040:#train the model by changing this value to get highest roc\n",
        "        picked_features.append(feature)\n"
      ],
      "metadata": {
        "id": "mq4fLAk1Ni-U"
      },
      "execution_count": null,
      "outputs": []
    },
    {
      "cell_type": "code",
      "source": [
        "rf_clf = RandomForestClassifier(n_estimators=100, class_weight='balanced', random_state=42)\n",
        "rf_clf.fit(X_train[picked_features], y_train)\n"
      ],
      "metadata": {
        "id": "mJZwfRnLVXh6"
      },
      "execution_count": null,
      "outputs": []
    },
    {
      "cell_type": "code",
      "source": [
        "y_pred_proba = rf_clf.predict_proba(X_test[picked_features])[:,1]\n",
        "roc_auc = roc_auc_score(y_test, y_pred_proba)\n",
        "\n",
        "print(\"ROC-AUC Score:\", roc_auc)"
      ],
      "metadata": {
        "id": "pby6V8JYUzS8"
      },
      "execution_count": null,
      "outputs": []
    },
    {
      "cell_type": "markdown",
      "source": [
        "# Training the model"
      ],
      "metadata": {
        "id": "FQlQvqU9grf6"
      }
    },
    {
      "cell_type": "markdown",
      "source": [
        "lets use the following models\n",
        "* Logistic Regression\n",
        "* Naives Bayes\n",
        "* Decision Tree\n",
        "* XGboost\n",
        "* Catboost\n",
        "* LightGBM"
      ],
      "metadata": {
        "id": "FNhdgzT8g_E0"
      }
    },
    {
      "cell_type": "code",
      "source": [
        "logistic_reg = LogisticRegression(max_iter=1000)\n",
        "naive_bayes = GaussianNB()\n",
        "decision_tree = DecisionTreeClassifier()\n",
        "xgboost_clf = XGBClassifier()\n",
        "catboost_clf = CatBoostClassifier()\n",
        "lightgbm_clf = LGBMClassifier()\n",
        "\n",
        "# Define parameter grids for GridSearchCV\n",
        "param_grids = {\n",
        "    \"Logistic Regression\": {\"C\": [0.1, 1.0, 10.0]},\n",
        "    \"Naive Bayes\": {},  # No hyperparameters for Naive Bayes\n",
        "    \"Decision Tree\": {\"max_depth\": [None, 5, 10, 20]},\n",
        "    \"XGBoost\": {\"n_estimators\": [50, 100, 200], \"max_depth\": [3, 5, 7]},\n",
        "    \"CatBoost\": {\"iterations\": [50, 100, 200], \"depth\": [4, 6, 8]},\n",
        "    \"LightGBM\": {\"n_estimators\": [50, 100, 200], \"max_depth\": [3, 5, 7]}\n",
        "}\n",
        "\n",
        "classifiers = {\n",
        "    \"Logistic Regression\": logistic_reg,\n",
        "    \"Naive Bayes\": naive_bayes,\n",
        "    \"Decision Tree\": decision_tree,\n",
        "    \"XGBoost\": xgboost_clf,\n",
        "    \"CatBoost\": catboost_clf,\n",
        "    \"LightGBM\": lightgbm_clf\n",
        "}\n",
        "roc_scores={}\n",
        "# Train and evaluate each classifier with GridSearchCV\n",
        "for name, clf in classifiers.items():\n",
        "    print(f\"Training {name}...\")\n",
        "    if name in param_grids:\n",
        "        param_grid = param_grids[name]\n",
        "        grid_search = GridSearchCV(clf, param_grid, cv=5, scoring='roc_auc')\n",
        "        grid_search.fit(X_train[picked_features], y_train)\n",
        "        clf = grid_search.best_estimator_\n",
        "    else:\n",
        "        clf.fit(X_train[picked_features], y_train)\n",
        "    y_pred = clf.predict(X_test[picked_features])\n",
        "    y_pred_proba = clf.predict_proba(X_test[picked_features])[:,1]\n",
        "    roc_auc = roc_auc_score(y_test, y_pred_proba)\n",
        "    roc_scores[name]=roc_auc\n",
        "print(roc_scores)"
      ],
      "metadata": {
        "id": "H2jUeucOgnUE"
      },
      "execution_count": null,
      "outputs": []
    },
    {
      "cell_type": "markdown",
      "source": [
        "Catboost gave the best roc_auc.we will pick catboost to predict our unseen data's target"
      ],
      "metadata": {
        "id": "usSpbdP54J1I"
      }
    },
    {
      "cell_type": "code",
      "source": [
        "test_predictions = grid_search.best_estimator_.predict(scaled_test[picked_features])\n",
        "submission_df = pd.DataFrame({'ID_code': test0['ID_code'], 'Target': test_predictions})\n",
        "\n",
        "submission_df.to_csv('submission.csv', index=False)\n",
        "\n"
      ],
      "metadata": {
        "id": "7oPTpZht38Ah"
      },
      "execution_count": null,
      "outputs": []
    },
    {
      "cell_type": "markdown",
      "source": [
        "we can improve the roc by changing the parameters,but since the data is big and training takes too long,i am stopping it here"
      ],
      "metadata": {
        "id": "LnVR6UBJANl3"
      }
    }
  ],
  "metadata": {
    "colab": {
      "provenance": []
    },
    "kernelspec": {
      "display_name": "Python 3",
      "name": "python3"
    }
  },
  "nbformat": 4,
  "nbformat_minor": 0
}
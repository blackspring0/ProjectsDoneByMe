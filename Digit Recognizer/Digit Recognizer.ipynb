{
  "nbformat": 4,
  "nbformat_minor": 0,
  "metadata": {
    "colab": {
      "provenance": []
    },
    "kernelspec": {
      "name": "python3",
      "display_name": "Python 3"
    },
    "language_info": {
      "name": "python"
    }
  },
  "cells": [
    {
      "cell_type": "code",
      "execution_count": null,
      "metadata": {
        "id": "xr2XB9654O9H"
      },
      "outputs": [],
      "source": [
        "import pandas as pd\n",
        "import numpy as np\n",
        "pd.set_option('display.max_rows',None)\n",
        "import matplotlib.pyplot as plt\n",
        "from sklearn.model_selection import train_test_split\n",
        "import tensorflow as tf\n",
        "from tensorflow.keras import layers, models, optimizers\n",
        "from sklearn.svm import SVC\n",
        "from sklearn.neighbors import KNeighborsClassifier\n",
        "from sklearn.metrics import accuracy_score\n"
      ]
    },
    {
      "cell_type": "code",
      "source": [
        "train=pd.read_csv('train.csv')\n",
        "test=pd.read_csv('test.csv')"
      ],
      "metadata": {
        "id": "xFnLO4-P9j8D"
      },
      "execution_count": null,
      "outputs": []
    },
    {
      "cell_type": "code",
      "source": [
        "train.head()"
      ],
      "metadata": {
        "id": "qgWiC3-jR8l-"
      },
      "execution_count": null,
      "outputs": []
    },
    {
      "cell_type": "code",
      "source": [
        "train.info()"
      ],
      "metadata": {
        "id": "nrKx0dzTR-X2"
      },
      "execution_count": null,
      "outputs": []
    },
    {
      "cell_type": "code",
      "source": [
        "df = [train,test]\n",
        "df_combined = pd.concat(df).reset_index(drop=True)\n",
        ""
      ],
      "metadata": {
        "id": "PZ6k6VMYNUgG"
      },
      "execution_count": null,
      "outputs": []
    },
    {
      "cell_type": "code",
      "source": [
        "f4th_label = df_combined.iloc[3, 0]\n",
        "f4th_image = df_combined.iloc[3, 1:].values.reshape(28, 28)\n",
        "\n",
        "plt.imshow(f4th_image, cmap='gray')\n",
        "plt.title(f\"Label: {f4th_label}\")\n",
        "plt.axis('off')\n",
        "plt.show()"
      ],
      "metadata": {
        "id": "OVN9I_nx-D1H"
      },
      "execution_count": null,
      "outputs": []
    },
    {
      "cell_type": "code",
      "source": [
        "X = pd.DataFrame(df_combined[:42000])\n",
        "X_Test  = pd.DataFrame(df_combined[42000:])\n",
        "y = train['label']"
      ],
      "metadata": {
        "id": "eA_hH2MBHgqR"
      },
      "execution_count": null,
      "outputs": []
    },
    {
      "cell_type": "code",
      "source": [
        "X_Test.drop(columns=['label'],inplace=True)"
      ],
      "metadata": {
        "id": "f_Rp_jVsYXy-"
      },
      "execution_count": null,
      "outputs": []
    },
    {
      "cell_type": "code",
      "source": [
        "X.drop(columns=['label'],inplace=True)\n",
        "y.drop(columns=['label'], inplace=True)"
      ],
      "metadata": {
        "id": "T9Na-yieRq_-"
      },
      "execution_count": null,
      "outputs": []
    },
    {
      "cell_type": "code",
      "source": [
        "X_train, X_test, y_train, y_test = train_test_split(X, y, test_size=0.2, random_state=42)"
      ],
      "metadata": {
        "id": "G9J6c54qSj2t"
      },
      "execution_count": null,
      "outputs": []
    },
    {
      "cell_type": "code",
      "source": [
        "X_train = X_train.values\n",
        "X_test = X_test.values\n",
        "X_train_flat = X_train.reshape(X_train.shape[0], -1)\n",
        "X_test_flat = X_test.reshape(X_test.shape[0], -1)\n",
        "\n",
        "\n",
        "svm_model = SVC(kernel='rbf')\n",
        "svm_model.fit(X_train_flat, y_train)\n",
        "\n",
        "\n",
        "svm_preds = svm_model.predict(X_test_flat)\n",
        "\n",
        "\n",
        "svm_accuracy = accuracy_score(y_test, svm_preds)\n",
        "print(f'SVM Test Accuracy: {svm_accuracy}')"
      ],
      "metadata": {
        "id": "iG3rcA6Dd4Am"
      },
      "execution_count": null,
      "outputs": []
    },
    {
      "cell_type": "code",
      "source": [
        "\n",
        "knn_model = KNeighborsClassifier(n_neighbors=5)\n",
        "knn_model.fit(X_train_flat, y_train)\n",
        "\n",
        "\n",
        "knn_preds = knn_model.predict(X_test_flat)\n",
        "\n",
        "knn_accuracy = accuracy_score(y_test, knn_preds)\n",
        "print(f'k-NN Test Accuracy: {knn_accuracy}')"
      ],
      "metadata": {
        "id": "n-Q7q8rXgLM5"
      },
      "execution_count": null,
      "outputs": []
    },
    {
      "cell_type": "markdown",
      "source": [
        "**CNN**"
      ],
      "metadata": {
        "id": "eGli9iUPdeJt"
      }
    },
    {
      "cell_type": "code",
      "source": [
        "X_train = X_train.values\n",
        "X_test = X_test.values\n",
        "X_train = X_train.reshape(-1, 28, 28, 1).astype('float32') / 255.0\n",
        "X_test = X_test.reshape(-1, 28, 28, 1).astype('float32') / 255.0\n",
        "\n",
        "\n",
        "model = models.Sequential([\n",
        "    layers.Conv2D(32, (3, 3), activation='relu', input_shape=(28, 28, 1)),\n",
        "    layers.MaxPooling2D((2, 2)),\n",
        "    layers.Conv2D(64, (3, 3), activation='relu'),\n",
        "    layers.MaxPooling2D((2, 2)),\n",
        "    layers.Conv2D(64, (3, 3), activation='relu'),\n",
        "    layers.Flatten(),\n",
        "    layers.Dense(64, activation='relu'),\n",
        "    layers.Dense(10, activation='softmax')\n",
        "])\n",
        "\n",
        "\n",
        "model.compile(optimizer='adam',\n",
        "              loss='sparse_categorical_crossentropy',\n",
        "              metrics=['accuracy'])\n",
        "\n",
        "\n",
        "history = model.fit(X_train, y_train, epochs=6, batch_size=64, validation_split=0.2)\n",
        "\n",
        "\n",
        "test_loss, test_acc = model.evaluate(X_test, y_test)\n",
        "print(f'Test accuracy: {test_acc}')"
      ],
      "metadata": {
        "id": "a3G83kxlTGlW"
      },
      "execution_count": null,
      "outputs": []
    },
    {
      "cell_type": "code",
      "source": [
        "X_test = X_Test.values\n",
        "\n",
        "\n",
        "X_test = X_test.reshape(-1, 28, 28, 1).astype('float32') / 255.0\n",
        "\n",
        "\n",
        "predictions = model.predict(X_test)\n",
        "\n",
        "\n",
        "predicted_labels = np.argmax(predictions, axis=1)\n",
        "\n",
        "output_df = pd.DataFrame({'ImageId': range(1, len(X_Test) + 1), 'label': predicted_labels})\n",
        "\n",
        "output_df.to_csv('predictions.csv', index=False)\n",
        "\n",
        "print(\"Predictions saved to predictions.csv\")"
      ],
      "metadata": {
        "id": "JP8XpJnFUpGF"
      },
      "execution_count": null,
      "outputs": []
    }
  ]
}
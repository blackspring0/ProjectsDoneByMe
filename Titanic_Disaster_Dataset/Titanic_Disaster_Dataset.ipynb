{
  "cells": [
    {
      "cell_type": "markdown",
      "source": [
        "import libraries and modules"
      ],
      "metadata": {
        "id": "KR7a7aZ2dqIX"
      }
    },
    {
      "cell_type": "code",
      "source": [
        "import pandas as pd\n",
        "import numpy as np\n",
        "import matplotlib.pyplot as plt\n",
        "import seaborn as sns\n",
        "from sklearn.model_selection import train_test_split\n",
        "from sklearn.model_selection import GridSearchCV\n",
        "from sklearn.naive_bayes import GaussianNB\n",
        "from sklearn.ensemble import RandomForestClassifier, GradientBoostingClassifier\n",
        "from sklearn.linear_model import LogisticRegression\n",
        "from sklearn.tree import DecisionTreeClassifier\n",
        "from sklearn.metrics import accuracy_score\n",
        "from sklearn.metrics import precision_recall_fscore_support, confusion_matrix,classification_report,ConfusionMatrixDisplay"
      ],
      "metadata": {
        "id": "3uZhPQFAduDf"
      },
      "execution_count": null,
      "outputs": []
    },
    {
      "cell_type": "markdown",
      "source": [
        "loading datasets,both test and train"
      ],
      "metadata": {
        "id": "XtjAmNm3ddi_"
      }
    },
    {
      "cell_type": "code",
      "source": [
        "train_df=pd.read_csv('/content/train.csv')"
      ],
      "metadata": {
        "id": "FZkORH5ndce4"
      },
      "execution_count": null,
      "outputs": []
    },
    {
      "cell_type": "code",
      "source": [
        "test_df=pd.read_csv('/content/test.csv')\n",
        "submission_df0=test_df.copy()"
      ],
      "metadata": {
        "id": "uqT0BNifF9DA"
      },
      "execution_count": null,
      "outputs": []
    },
    {
      "cell_type": "markdown",
      "source": [
        "lets have a look at the data"
      ],
      "metadata": {
        "id": "exN8caBfdpl_"
      }
    },
    {
      "cell_type": "code",
      "source": [
        "train_df.shape\n",
        "test_df.head()"
      ],
      "metadata": {
        "id": "gMEAIoPSeKED"
      },
      "execution_count": null,
      "outputs": []
    },
    {
      "cell_type": "markdown",
      "source": [
        "dropping irrelevant columns"
      ],
      "metadata": {
        "id": "yjyLjUycfKz9"
      }
    },
    {
      "cell_type": "code",
      "source": [
        "train_df.drop(columns=['Cabin','PassengerId','Name','Ticket'], inplace=True)"
      ],
      "metadata": {
        "id": "Dh6K_XFnrk-V"
      },
      "execution_count": null,
      "outputs": []
    },
    {
      "cell_type": "code",
      "source": [
        "train_df.describe()"
      ],
      "metadata": {
        "id": "nEx6bv5gXgMe"
      },
      "execution_count": null,
      "outputs": []
    },
    {
      "cell_type": "markdown",
      "source": [
        "missing values imputing"
      ],
      "metadata": {
        "id": "fXEOxt2rXP_g"
      }
    },
    {
      "cell_type": "code",
      "source": [
        "train_df.isnull().sum()"
      ],
      "metadata": {
        "id": "QzNwVjzn6WFc"
      },
      "execution_count": null,
      "outputs": []
    },
    {
      "cell_type": "code",
      "source": [
        "train_df['Age'].fillna(train_df['Age'].median(), inplace=True)\n",
        "train_df['Embarked'].fillna(train_df['Embarked'].mode()[0], inplace=True)"
      ],
      "metadata": {
        "id": "BMzakt9CV8TH"
      },
      "execution_count": null,
      "outputs": []
    },
    {
      "cell_type": "code",
      "source": [
        "train_df['Embarked'].value_counts()"
      ],
      "metadata": {
        "id": "UTEJqymMXeLq"
      },
      "execution_count": null,
      "outputs": []
    },
    {
      "cell_type": "code",
      "source": [
        "train_df = pd.get_dummies(train_df, columns=['Embarked'], drop_first=True)\n"
      ],
      "metadata": {
        "id": "nzM_q_SZYl7A"
      },
      "execution_count": null,
      "outputs": []
    },
    {
      "cell_type": "code",
      "source": [
        "train_df['Embarked_Q'] = train_df['Embarked_Q'].astype(int)\n"
      ],
      "metadata": {
        "id": "a1jqV0MaZuS6"
      },
      "execution_count": null,
      "outputs": []
    },
    {
      "cell_type": "code",
      "source": [
        "train_df['Embarked_S'] = train_df['Embarked_S'].astype(int)\n"
      ],
      "metadata": {
        "id": "u4sCTD6NZ9ot"
      },
      "execution_count": null,
      "outputs": []
    },
    {
      "cell_type": "code",
      "source": [
        "train_df['FamilySize'] = train_df['SibSp'] + train_df['Parch']\n",
        "train_df['IsAlone'] = (train_df['FamilySize'] == 0).astype(int)\n",
        "train_df"
      ],
      "metadata": {
        "id": "fLvRo8c8dPKC"
      },
      "execution_count": null,
      "outputs": []
    },
    {
      "cell_type": "code",
      "source": [
        "train_df.drop(columns=['SibSp','Parch'],inplace=True)"
      ],
      "metadata": {
        "id": "A0X0R5OSgBhx"
      },
      "execution_count": null,
      "outputs": []
    },
    {
      "cell_type": "code",
      "source": [
        "train_df=pd.get_dummies(train_df, columns=['Sex'], drop_first=True).astype(int)\n"
      ],
      "metadata": {
        "id": "Trbp55rwgTIm"
      },
      "execution_count": null,
      "outputs": []
    },
    {
      "cell_type": "code",
      "source": [
        "X = train_df[['Pclass', 'Age', 'Fare', 'Embarked_Q', 'Embarked_S', 'FamilySize', 'IsAlone', 'Sex_male']]\n",
        "y = train_df['Survived']"
      ],
      "metadata": {
        "id": "h3OU7AobjG8e"
      },
      "execution_count": null,
      "outputs": []
    },
    {
      "cell_type": "markdown",
      "source": [
        "Split data"
      ],
      "metadata": {
        "id": "vgeQb0w2joMW"
      }
    },
    {
      "cell_type": "code",
      "source": [
        "X_train, X_test, y_train, y_test = train_test_split(X, y, test_size=0.2, random_state=42, stratify=y)"
      ],
      "metadata": {
        "id": "pHnm0ZtUjJvp"
      },
      "execution_count": null,
      "outputs": []
    },
    {
      "cell_type": "code",
      "source": [
        "classifiers = {\n",
        "    'Naive Bayes': GaussianNB(),\n",
        "    'Random Forest': RandomForestClassifier(),\n",
        "    'Logistic Regression': LogisticRegression(max_iter=1000),\n",
        "    'Decision Tree': DecisionTreeClassifier(),\n",
        "    'Gradient Boosting': GradientBoostingClassifier()\n",
        "}\n",
        "\n",
        "param_grids = {\n",
        "    'Naive Bayes': {},\n",
        "    'Random Forest': {\n",
        "        'n_estimators': [100, 200, 300],\n",
        "        'max_depth': [None, 10, 20],\n",
        "        'min_samples_split': [2, 5, 10]\n",
        "    },\n",
        "    'Logistic Regression': {\n",
        "        'C': [0.001, 0.01, 0.1, 1, 10, 100],\n",
        "        'penalty': ['l1', 'l2']\n",
        "    },\n",
        "    'Decision Tree': {\n",
        "        'max_depth': [None, 10, 20, 30],\n",
        "        'min_samples_split': [2, 5, 10]\n",
        "    },\n",
        "    'Gradient Boosting': {\n",
        "        'n_estimators': [100, 200, 300],\n",
        "        'learning_rate': [0.001, 0.01, 0.1],\n",
        "        'max_depth': [3, 5, 7]\n",
        "    }\n",
        "}\n",
        "\n",
        "\n",
        "results = {}\n",
        "for clf_name, clf in classifiers.items():\n",
        "    grid_search = GridSearchCV(clf, param_grids[clf_name], cv=5, scoring='accuracy', n_jobs=-1)\n",
        "    grid_search.fit(X_train, y_train)\n",
        "    best_model = grid_search.best_estimator_\n",
        "    results[clf_name] = (best_model, grid_search.best_params_)\n",
        "for clf_name, (best_model, best_params) in results.items():\n",
        "    y_pred = best_model.predict(X_test)\n",
        "    accuracy = accuracy_score(y_test, y_pred)\n",
        "    print(f\"{clf_name} - Best Model Accuracy: {accuracy}, Best Parameters: {best_params}\")"
      ],
      "metadata": {
        "id": "I7z4HCV9kUOd"
      },
      "execution_count": null,
      "outputs": []
    },
    {
      "cell_type": "code",
      "source": [
        "best_params_dt = results['Decision Tree'][1]\n",
        "best_model_dt = DecisionTreeClassifier(**best_params_dt)\n",
        "best_model_dt.fit(X_train, y_train)\n",
        "y_pred_dt = best_model_dt.predict(X_test)\n",
        "accuracy_dt = accuracy_score(y_test, y_pred_dt)\n",
        "print(\"Decision Tree - Test Accuracy:\", accuracy_dt)"
      ],
      "metadata": {
        "id": "_dNON4O1kUor"
      },
      "execution_count": null,
      "outputs": []
    },
    {
      "cell_type": "code",
      "source": [
        "precision, recall, f1_score, _ = precision_recall_fscore_support(y_test, y_pred_dt, average='binary')\n",
        "conf_matrix = confusion_matrix(y_test, y_pred_dt)"
      ],
      "metadata": {
        "id": "--FuaFJpkUme"
      },
      "execution_count": null,
      "outputs": []
    },
    {
      "cell_type": "code",
      "source": [
        "print(\"Precision:\", precision)\n",
        "print(\"Recall:\", recall)\n",
        "print(\"F1 Score:\", f1_score)\n",
        "print(\"Classification Report:\")\n",
        "print(classification_report(y_test, y_pred_dt))\n",
        "disp = ConfusionMatrixDisplay(confusion_matrix=conf_matrix, display_labels=[0, 1])\n",
        "disp.plot(cmap='Blues', values_format='d')\n",
        "plt.title('Confusion Matrix')\n",
        "plt.show()"
      ],
      "metadata": {
        "id": "8AcDqN1RmcKv"
      },
      "execution_count": null,
      "outputs": []
    },
    {
      "cell_type": "markdown",
      "source": [
        "Unseen data or test data"
      ],
      "metadata": {
        "id": "nVy6Q5cMnXvN"
      }
    },
    {
      "cell_type": "code",
      "source": [
        "test_df.head()"
      ],
      "metadata": {
        "id": "hfXZc4tpmh6U"
      },
      "execution_count": null,
      "outputs": []
    },
    {
      "cell_type": "code",
      "source": [
        "test_df.drop(columns=['Cabin','PassengerId','Name','Ticket'], inplace=True)"
      ],
      "metadata": {
        "id": "SeOFXc9V6yQU"
      },
      "execution_count": null,
      "outputs": []
    },
    {
      "cell_type": "code",
      "source": [
        "test_df.isnull().sum()"
      ],
      "metadata": {
        "id": "ASAhVKqIneNc"
      },
      "execution_count": null,
      "outputs": []
    },
    {
      "cell_type": "code",
      "source": [
        "test_df['Age'].fillna(train_df['Age'].median(), inplace=True)\n",
        "test_df['Fare'].fillna(train_df['Fare'].mean(), inplace=True)"
      ],
      "metadata": {
        "id": "DP8v7MsQnpGz"
      },
      "execution_count": null,
      "outputs": []
    },
    {
      "cell_type": "code",
      "source": [
        "test_df = pd.get_dummies(test_df, columns=['Embarked'], drop_first=True)"
      ],
      "metadata": {
        "id": "u02wC6YYn1nf"
      },
      "execution_count": null,
      "outputs": []
    },
    {
      "cell_type": "code",
      "source": [
        "test_df['Embarked_Q'] = test_df['Embarked_Q'].astype(int)"
      ],
      "metadata": {
        "id": "6AbaHpDNoF9G"
      },
      "execution_count": null,
      "outputs": []
    },
    {
      "cell_type": "code",
      "source": [
        "test_df['Embarked_S'] = test_df['Embarked_S'].astype(int)"
      ],
      "metadata": {
        "id": "qKomEmXFoP--"
      },
      "execution_count": null,
      "outputs": []
    },
    {
      "cell_type": "code",
      "source": [
        "test_df['FamilySize'] = test_df['SibSp'] + test_df['Parch']\n",
        "test_df['IsAlone'] = (test_df['FamilySize'] == 0).astype(int)\n",
        "test_df"
      ],
      "metadata": {
        "id": "_gCMRsSZoo7n"
      },
      "execution_count": null,
      "outputs": []
    },
    {
      "cell_type": "code",
      "source": [
        "test_df=pd.get_dummies(test_df, columns=['Sex'], drop_first=True).astype(int)\n"
      ],
      "metadata": {
        "id": "5yaZjXTbopOP"
      },
      "execution_count": null,
      "outputs": []
    },
    {
      "cell_type": "code",
      "source": [
        "test_df.drop(columns=['SibSp','Parch'],inplace=True)"
      ],
      "metadata": {
        "id": "r-nAaD9pxJyq"
      },
      "execution_count": null,
      "outputs": []
    },
    {
      "cell_type": "code",
      "source": [
        "survival_probabilities = best_model_dt.predict_proba(test_df)[:, 1]\n",
        "threshold = 0.5\n",
        "predictions = (survival_probabilities > threshold).astype(int)\n",
        "submission_df = pd.DataFrame({\n",
        "    'PassengerId': submission_df0['PassengerId'],\n",
        "    'Survived': predictions\n",
        "})\n",
        "submission_df.to_csv('submission.csv', index=False)"
      ],
      "metadata": {
        "id": "wxJp15j-yIQB"
      },
      "execution_count": null,
      "outputs": []
    }
  ],
  "metadata": {
    "colab": {
      "name": "Welcome To Colaboratory",
      "provenance": []
    },
    "kernelspec": {
      "display_name": "Python 3",
      "name": "python3"
    }
  },
  "nbformat": 4,
  "nbformat_minor": 0
}
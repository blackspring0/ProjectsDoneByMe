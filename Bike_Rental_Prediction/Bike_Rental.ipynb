{
  "nbformat": 4,
  "nbformat_minor": 0,
  "metadata": {
    "colab": {
      "provenance": []
    },
    "kernelspec": {
      "name": "python3",
      "display_name": "Python 3"
    },
    "language_info": {
      "name": "python"
    }
  },
  "cells": [
    {
      "cell_type": "code",
      "execution_count": null,
      "metadata": {
        "id": "JNdGLGs7U2T4"
      },
      "outputs": [],
      "source": [
        "import pandas as pd\n",
        "import numpy as np\n",
        "pd.set_option('display.max_rows',None)\n",
        "from datetime import datetime as dt\n",
        "import matplotlib.pyplot as plt\n",
        "import seaborn as sns\n",
        "from sklearn.model_selection import train_test_split\n",
        "from sklearn.preprocessing import StandardScaler\n",
        "from sklearn.linear_model import LinearRegression, Ridge, Lasso\n",
        "from sklearn.ensemble import RandomForestRegressor, GradientBoostingRegressor\n",
        "from xgboost import XGBRegressor\n",
        "from lightgbm import LGBMRegressor\n",
        "from sklearn.model_selection import GridSearchCV\n",
        "from sklearn.metrics import mean_squared_error\n",
        "from sklearn.metrics import make_scorer\n"
      ]
    },
    {
      "cell_type": "code",
      "source": [
        "train=pd.read_csv('train.csv')\n",
        "test=pd.read_csv('test.csv')\n",
        "test0=pd.read_csv('test.csv')"
      ],
      "metadata": {
        "id": "k3ZEpyEjfxG7"
      },
      "execution_count": null,
      "outputs": []
    },
    {
      "cell_type": "markdown",
      "source": [
        "# Data Fields\n",
        "\n",
        "**datetime** - hourly date + timestamp  \n",
        "\n",
        "**season**-  1 = spring, 2 = summer, 3 = fall, 4 = winter\n",
        "\n",
        "**holiday** - whether the day is considered a holiday\n",
        "\n",
        "**workingday** - whether the day is neither a weekend nor holiday\n",
        "\n",
        "**weather** - 1: Clear, Few clouds, Partly cloudy, Partly cloudy\n",
        "2: Mist + Cloudy, Mist + Broken clouds, Mist + Few clouds, Mist\n",
        "3: Light Snow, Light Rain + Thunderstorm + Scattered clouds, Light Rain + Scattered clouds\n",
        "4: Heavy Rain + Ice Pallets + Thunderstorm + Mist, Snow + Fog\n",
        "\n",
        "**temp** - temperature in Celsius\n",
        "\n",
        "**atemp**- \"feels like\" temperature in Celsius\n",
        "\n",
        "**humidity** - relative humidity\n",
        "\n",
        "**windspeed** - wind speed\n",
        "\n",
        "**casual** - number of non-registered user rentals initiated\n",
        "\n",
        "**registered** - number of registered user rentals initiated\n",
        "\n",
        "**count** - number of total rentals\n"
      ],
      "metadata": {
        "id": "2GPmaQZjl2--"
      }
    },
    {
      "cell_type": "code",
      "source": [
        "train.head()"
      ],
      "metadata": {
        "id": "_XrUuymKh6r_"
      },
      "execution_count": null,
      "outputs": []
    },
    {
      "cell_type": "code",
      "source": [
        "test.head()"
      ],
      "metadata": {
        "id": "fUXgbImtiJZc"
      },
      "execution_count": null,
      "outputs": []
    },
    {
      "cell_type": "code",
      "source": [
        "df=train.copy()"
      ],
      "metadata": {
        "id": "yd81QJ_liLlw"
      },
      "execution_count": null,
      "outputs": []
    },
    {
      "cell_type": "markdown",
      "source": [
        "Remove irrelevant features ; casual and registered"
      ],
      "metadata": {
        "id": "DXEGP3jsiwQC"
      }
    },
    {
      "cell_type": "code",
      "source": [
        "df.drop(columns=['casual','registered'],inplace=True)\n"
      ],
      "metadata": {
        "id": "VVtiJPFdiu-X"
      },
      "execution_count": null,
      "outputs": []
    },
    {
      "cell_type": "code",
      "source": [
        "df.info()"
      ],
      "metadata": {
        "id": "b7gqo9rCkaZR"
      },
      "execution_count": null,
      "outputs": []
    },
    {
      "cell_type": "markdown",
      "source": [
        "Convert datetime to hour,weekday,month,year"
      ],
      "metadata": {
        "id": "LKXOwgbNjwb4"
      }
    },
    {
      "cell_type": "code",
      "source": [
        "df['datetime'] = pd.to_datetime(df['datetime'])\n",
        "df['hour'] = df['datetime'].dt.hour\n",
        "df['day'] = df['datetime'].dt.strftime('%a')\n",
        "df['month'] = df['datetime'].dt.strftime('%b')\n",
        "df['year'] = df['datetime'].dt.year\n",
        "df.drop(columns=['datetime'],inplace=True)\n",
        "test['datetime'] = pd.to_datetime(test['datetime'])\n",
        "test['hour'] = test['datetime'].dt.hour\n",
        "test['day'] = test['datetime'].dt.strftime('%a')\n",
        "test['month'] = test['datetime'].dt.strftime('%b')\n",
        "test['year'] = test['datetime'].dt.year\n",
        "test.drop(columns=['datetime'],inplace=True)"
      ],
      "metadata": {
        "id": "CuRNYH1FjeK-"
      },
      "execution_count": null,
      "outputs": []
    },
    {
      "cell_type": "code",
      "source": [
        "df['season'] = df['season'].map({1: 'Spring', 2: 'Summer', 3: 'Fall,', 4: 'Winter'})\n",
        "df['weather'] = df['weather'].map({1: 'Clear', 2: 'Cloudy', 3: 'Light Rain', 4: 'Heavy Rain'})\n",
        "df['holiday'] = df['holiday'].map({0: 'No', 1: 'Yes'})\n",
        "df['workingday'] = df['workingday'].map({0: 'No', 1: 'Yes'})\n",
        "test['season'] = test['season'].map({1: 'Spring', 2: 'Summer', 3: 'Fall,', 4: 'Winter'})\n",
        "test['weather'] = test['weather'].map({1: 'Clear', 2: 'Cloudy', 3: 'Light Rain', 4: 'Heavy Rain'})\n",
        "test['holiday'] = test['holiday'].map({0: 'No', 1: 'Yes'})\n",
        "test['workingday'] = test['workingday'].map({0: 'No', 1: 'Yes'})"
      ],
      "metadata": {
        "id": "iy38qOizldkM"
      },
      "execution_count": null,
      "outputs": []
    },
    {
      "cell_type": "code",
      "source": [
        "df.head()"
      ],
      "metadata": {
        "id": "UjKxptEvnO5n"
      },
      "execution_count": null,
      "outputs": []
    },
    {
      "cell_type": "code",
      "source": [
        "categorical=['season','holiday','workingday','weather','hour','day','month','year']\n",
        "numeric=['temp','atemp','humidity','windspeed']"
      ],
      "metadata": {
        "id": "wrnxw8oloW66"
      },
      "execution_count": null,
      "outputs": []
    },
    {
      "cell_type": "markdown",
      "source": [
        " Plot categorical"
      ],
      "metadata": {
        "id": "1KH_CXdfppYr"
      }
    },
    {
      "cell_type": "code",
      "source": [
        "plt.figure(figsize=(20,20))\n",
        "for index,feature in enumerate(categorical):\n",
        "  plt.subplot(3, 4, index+1)\n",
        "  sns.barplot(x=feature, y='count', data=df)\n",
        "  plt.xlabel(f'{feature}')\n",
        "  plt.ylabel('Categorical Variable')\n",
        "  plt.title(f'{feature} vs count')\n",
        "plt.show()"
      ],
      "metadata": {
        "id": "HgFg62SJoxan"
      },
      "execution_count": null,
      "outputs": []
    },
    {
      "cell_type": "markdown",
      "source": [
        "Plot Numeric"
      ],
      "metadata": {
        "id": "Hr2i5_m1rKVa"
      }
    },
    {
      "cell_type": "code",
      "source": [
        "plt.figure(figsize=(20,20))\n",
        "for index,feature in enumerate(numeric):\n",
        "  plt.subplot(3, 4, index+1)\n",
        "  sns.scatterplot(x=feature, y='count', data=df)\n",
        "  plt.xlabel(f'{feature}')\n",
        "  plt.ylabel('Numeric Variable')\n",
        "  plt.title(f'{feature} vs count')\n",
        "plt.show()"
      ],
      "metadata": {
        "id": "QAHGLYGKqDMw"
      },
      "execution_count": null,
      "outputs": []
    },
    {
      "cell_type": "code",
      "source": [
        "sns.displot(df['count'], kde=True, color='blue')\n",
        "plt.title('Distribution of Count')\n",
        "plt.xlabel('Value')\n",
        "plt.ylabel('Frequency')\n",
        "plt.grid(True)\n",
        "plt.show()"
      ],
      "metadata": {
        "id": "zaK74UrJtfkQ"
      },
      "execution_count": null,
      "outputs": []
    },
    {
      "cell_type": "markdown",
      "source": [
        "Right side skewed"
      ],
      "metadata": {
        "id": "mzR7yHQGuW82"
      }
    },
    {
      "cell_type": "markdown",
      "source": [
        "Tranformation of count distribution"
      ],
      "metadata": {
        "id": "Apw4Uoyiulju"
      }
    },
    {
      "cell_type": "code",
      "source": [
        "df['log_count'] = np.log1p(df['count'])\n",
        "sns.histplot(df['log_count'], kde=True, color='blue')\n",
        "plt.title('Log-transformed Distribution of Target Variable')\n",
        "plt.xlabel('Log-transformed Target Variable Value')\n",
        "plt.ylabel('Frequency')\n",
        "plt.grid(True)\n",
        "plt.show()"
      ],
      "metadata": {
        "id": "6AhzYK3KuQ5T"
      },
      "execution_count": null,
      "outputs": []
    },
    {
      "cell_type": "code",
      "source": [
        "df.drop(columns=['count'],inplace=True)"
      ],
      "metadata": {
        "id": "HmTULwyN5w6v"
      },
      "execution_count": null,
      "outputs": []
    },
    {
      "cell_type": "markdown",
      "source": [
        "Outlier checking for numeric"
      ],
      "metadata": {
        "id": "mXLRSsk6xDJD"
      }
    },
    {
      "cell_type": "code",
      "source": [
        "plt.figure(figsize=(12, 6))\n",
        "sns.boxplot(data=df[numeric])\n",
        "plt.title('Boxplot of Numeric Variables')\n",
        "plt.xlabel('Variable')\n",
        "plt.ylabel('Value')\n",
        "plt.xticks(rotation=45)\n",
        "plt.show()"
      ],
      "metadata": {
        "id": "CAq1XmYVwu6y"
      },
      "execution_count": null,
      "outputs": []
    },
    {
      "cell_type": "markdown",
      "source": [
        "windspeed has outliers"
      ],
      "metadata": {
        "id": "-8Hf1Lr6xqZV"
      }
    },
    {
      "cell_type": "markdown",
      "source": [
        "remove all outliers"
      ],
      "metadata": {
        "id": "GKEI4yuYz5D1"
      }
    },
    {
      "cell_type": "code",
      "source": [
        "drop_idx=df[(df['atemp']>20) & (df['atemp'] <48) & (df['temp']>10) & (df['temp']<20)].index\n",
        "clean_df=df.drop(drop_idx)"
      ],
      "metadata": {
        "id": "bFSWs5cYzh51"
      },
      "execution_count": null,
      "outputs": []
    },
    {
      "cell_type": "code",
      "source": [
        "clean_df.head()"
      ],
      "metadata": {
        "id": "uR_b1o29z_4t"
      },
      "execution_count": null,
      "outputs": []
    },
    {
      "cell_type": "code",
      "source": [
        "sns.boxplot(data=clean_df['count'])\n",
        "plt.title('Boxplot of Count')\n",
        "plt.xlabel('Count')\n",
        "plt.ylabel('Value')\n",
        "plt.xticks(rotation=45)\n",
        "plt.show()"
      ],
      "metadata": {
        "id": "1fjo9Zym0A4K"
      },
      "execution_count": null,
      "outputs": []
    },
    {
      "cell_type": "markdown",
      "source": [
        "checking correlation"
      ],
      "metadata": {
        "id": "dZKY_bj030Wn"
      }
    },
    {
      "cell_type": "code",
      "source": [
        "sns.heatmap(clean_df[numeric].corr(), annot=True, cmap='coolwarm', fmt=\".2f\", linewidths=.5)\n",
        "plt.title('Correlation Matrix')\n",
        "plt.show()"
      ],
      "metadata": {
        "id": "7qd4ef1J0Izr"
      },
      "execution_count": null,
      "outputs": []
    },
    {
      "cell_type": "markdown",
      "source": [
        "temp and atemp is correlated,so we can remove it"
      ],
      "metadata": {
        "id": "DoKp9FG744ad"
      }
    },
    {
      "cell_type": "code",
      "source": [
        "clean_df.drop(columns=['atemp'],inplace=True)\n",
        "test.drop(columns=['atemp'],inplace=True)"
      ],
      "metadata": {
        "id": "B7SHhvVw4-41"
      },
      "execution_count": null,
      "outputs": []
    },
    {
      "cell_type": "markdown",
      "source": [
        "convert categorical into numeric"
      ],
      "metadata": {
        "id": "miVXNph45Q65"
      }
    },
    {
      "cell_type": "code",
      "source": [
        "final_df = pd.get_dummies(clean_df, columns=categorical, drop_first=True)\n",
        "test = pd.get_dummies(test, columns=categorical, drop_first=True)"
      ],
      "metadata": {
        "id": "3aT7Cc3L5MlG"
      },
      "execution_count": null,
      "outputs": []
    },
    {
      "cell_type": "code",
      "source": [
        "final_df = final_df.astype(int)\n",
        "test = test.astype(int)"
      ],
      "metadata": {
        "id": "jOvoHLoRGAH0"
      },
      "execution_count": null,
      "outputs": []
    },
    {
      "cell_type": "markdown",
      "source": [
        "splitting and training"
      ],
      "metadata": {
        "id": "7rxywIEL5i_Y"
      }
    },
    {
      "cell_type": "code",
      "source": [
        "print('final_df shape:', final_df.shape)\n",
        "print('train shape:', train.shape)\n",
        "print('test shape:',  test.shape)"
      ],
      "metadata": {
        "id": "5wn1A3GJ6V_R"
      },
      "execution_count": null,
      "outputs": []
    },
    {
      "cell_type": "code",
      "source": [
        "final_df.head()"
      ],
      "metadata": {
        "id": "_VUoTH4uFn20"
      },
      "execution_count": null,
      "outputs": []
    },
    {
      "cell_type": "code",
      "source": [
        "final_df['log_count'].value_counts()"
      ],
      "metadata": {
        "id": "8qEP6FD4GdBc"
      },
      "execution_count": null,
      "outputs": []
    },
    {
      "cell_type": "code",
      "source": [
        "X=final_df.drop(columns=['log_count'])\n",
        "y=final_df['log_count']\n",
        "\n"
      ],
      "metadata": {
        "id": "sXV980BM7bsD"
      },
      "execution_count": null,
      "outputs": []
    },
    {
      "cell_type": "markdown",
      "source": [
        "Scaling using Standardscaling"
      ],
      "metadata": {
        "id": "5wudW_RP7tHy"
      }
    },
    {
      "cell_type": "code",
      "source": [
        "scaler = StandardScaler()\n",
        "scaler.fit(X)\n",
        "X_train_scaled = scaler.transform(X)\n",
        "X_test_scaled = scaler.transform(test)"
      ],
      "metadata": {
        "id": "-6MpbYDj7szU"
      },
      "execution_count": null,
      "outputs": []
    },
    {
      "cell_type": "code",
      "source": [
        "X_train, X_test, y_train, y_test = train_test_split(X ,y, train_size=0.8, test_size=0.2,random_state=0)"
      ],
      "metadata": {
        "id": "ZtwRQSpK7i5z"
      },
      "execution_count": null,
      "outputs": []
    },
    {
      "cell_type": "code",
      "source": [
        "def rmsle(y,pred):\n",
        "  log_y=np.log1p(y)\n",
        "  log_pred=np.log1p(pred)\n",
        "  squared_error=(log_y-log_pred)**2\n",
        "  rmsle=np.sqrt(np.mean(squared_error))\n",
        "  return rmsle\n",
        "\n",
        "def evaluate(reg_cls,params=None):\n",
        "  reg=reg_cls()\n",
        "  if params:\n",
        "    reg=GridSearchCV(reg, param_grid=params, refit=True)\n",
        "  reg.fit(X_train,y_train)\n",
        "  pred=reg.predict(X_test)\n",
        "  y_test_exp=np.expm1(y_test)\n",
        "  pred_exp=np.expm1(pred)\n",
        "  print('\\n', reg_cls)\n",
        "  if params:\n",
        "    print(reg.best_params_)\n",
        "    reg=reg.best_estimator_\n",
        "  print(rmsle(y_test_exp,pred_exp))\n",
        "  return reg, pred_exp"
      ],
      "metadata": {
        "id": "q43m7OFI7599"
      },
      "execution_count": null,
      "outputs": []
    },
    {
      "cell_type": "code",
      "source": [
        "Ir_reg, pred_Ir=evaluate(LinearRegression)\n",
        "rg_reg, pred_rg=evaluate(Ridge)\n",
        "ls_reg, pred_ls=evaluate(Lasso)\n",
        "rf_reg, pred_rf=evaluate(RandomForestRegressor)\n",
        "gb_reg,pred_gb=evaluate(GradientBoostingRegressor)\n",
        "xg_reg, pred_xg=evaluate(XGBRegressor)\n",
        "lg_reg, pred_1g=evaluate(LGBMRegressor)\n",
        "\n",
        "params={'n_estimators': [100*i for i in range(1,6)]}\n",
        "xg_reg, pred_xg=evaluate(XGBRegressor, params)\n",
        "lg_reg, pred_1g=evaluate(LGBMRegressor, params)"
      ],
      "metadata": {
        "id": "b1twLD9BTYs0"
      },
      "execution_count": null,
      "outputs": []
    },
    {
      "cell_type": "markdown",
      "source": [
        "best model is LGBM"
      ],
      "metadata": {
        "id": "5l0nCXhCW-va"
      }
    },
    {
      "cell_type": "code",
      "source": [
        "predictions = lg_reg.predict(test)\n",
        "original_predictions = np.expm1(predictions)\n",
        "predictions_df = pd.DataFrame({'datetime': test0['datetime'], 'count': original_predictions})\n",
        "predictions_df.to_csv('predictions.csv', index=False)"
      ],
      "metadata": {
        "id": "-shjrIxW_Qcb"
      },
      "execution_count": null,
      "outputs": []
    }
  ]
}
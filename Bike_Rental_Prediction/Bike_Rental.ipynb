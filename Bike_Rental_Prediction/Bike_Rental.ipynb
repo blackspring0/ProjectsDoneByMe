{
  "cells": [
    {
      "cell_type": "code",
      "execution_count": null,
      "metadata": {
        "id": "JNdGLGs7U2T4"
      },
      "outputs": [],
      "source": [
        "import pandas as pd\n",
        "import numpy as np\n",
        "pd.set_option('display.max_rows',None)\n",
        "from datetime import datetime as dt\n",
        "import matplotlib.pyplot as plt\n",
        "import seaborn as sns\n",
        "from sklearn.model_selection import train_test_split\n",
        "from sklearn.preprocessing import StandardScaler\n",
        "from sklearn.linear_model import LinearRegression, Ridge, Lasso\n",
        "from sklearn.ensemble import RandomForestRegressor, GradientBoostingRegressor\n",
        "from xgboost import XGBRegressor\n",
        "from lightgbm import LGBMRegressor\n",
        "!pip install catboost\n",
        "from catboost import CatBoostRegressor\n",
        "from sklearn.model_selection import GridSearchCV\n",
        "from sklearn.metrics import mean_squared_error\n",
        "from sklearn.metrics import make_scorer\n",
        "import warnings\n",
        "warnings.filterwarnings(\"ignore\", category=UserWarning, module=\"lightgbm\")\n"
      ]
    },
    {
      "cell_type": "code",
      "execution_count": null,
      "metadata": {
        "id": "k3ZEpyEjfxG7"
      },
      "outputs": [],
      "source": [
        "df=pd.read_csv('train.csv')\n",
        "test=pd.read_csv('test.csv')\n",
        "test0=pd.read_csv('test.csv')"
      ]
    },
    {
      "cell_type": "markdown",
      "metadata": {
        "id": "2GPmaQZjl2--"
      },
      "source": [
        "# Data Fields\n",
        "\n",
        "**datetime** - hourly date + timestamp  \n",
        "\n",
        "**season**-  1 = spring, 2 = summer, 3 = fall, 4 = winter\n",
        "\n",
        "**holiday** - whether the day is considered a holiday\n",
        "\n",
        "**workingday** - whether the day is neither a weekend nor holiday\n",
        "\n",
        "**weather** - 1: Clear, Few clouds, Partly cloudy, Partly cloudy\n",
        "2: Mist + Cloudy, Mist + Broken clouds, Mist + Few clouds, Mist\n",
        "3: Light Snow, Light Rain + Thunderstorm + Scattered clouds, Light Rain + Scattered clouds\n",
        "4: Heavy Rain + Ice Pallets + Thunderstorm + Mist, Snow + Fog\n",
        "\n",
        "**temp** - temperature in Celsius\n",
        "\n",
        "**atemp**- \"feels like\" temperature in Celsius\n",
        "\n",
        "**humidity** - relative humidity\n",
        "\n",
        "**windspeed** - wind speed\n",
        "\n",
        "**casual** - number of non-registered user rentals initiated\n",
        "\n",
        "**registered** - number of registered user rentals initiated\n",
        "\n",
        "**count** - number of total rentals\n"
      ]
    },
    {
      "cell_type": "code",
      "execution_count": null,
      "metadata": {
        "id": "_XrUuymKh6r_"
      },
      "outputs": [],
      "source": [
        "df.head()"
      ]
    },
    {
      "cell_type": "code",
      "execution_count": null,
      "metadata": {
        "id": "fUXgbImtiJZc"
      },
      "outputs": [],
      "source": [
        "test.head()"
      ]
    },
    {
      "cell_type": "markdown",
      "metadata": {
        "id": "DXEGP3jsiwQC"
      },
      "source": [
        "Remove irrelevant features ; casual and registered"
      ]
    },
    {
      "cell_type": "code",
      "execution_count": null,
      "metadata": {
        "id": "VVtiJPFdiu-X"
      },
      "outputs": [],
      "source": [
        "df.drop(columns=['casual','registered'],inplace=True)\n"
      ]
    },
    {
      "cell_type": "code",
      "execution_count": null,
      "metadata": {
        "id": "b7gqo9rCkaZR"
      },
      "outputs": [],
      "source": [
        "df.info()"
      ]
    },
    {
      "cell_type": "markdown",
      "metadata": {
        "id": "LKXOwgbNjwb4"
      },
      "source": [
        "Convert datetime to hour,weekday,month,year"
      ]
    },
    {
      "cell_type": "code",
      "execution_count": null,
      "metadata": {
        "id": "CuRNYH1FjeK-"
      },
      "outputs": [],
      "source": [
        "df['datetime'] = pd.to_datetime(df['datetime'])\n",
        "df['hour'] = df['datetime'].dt.hour\n",
        "df['day'] = df['datetime'].dt.strftime('%a')\n",
        "df['month'] = df['datetime'].dt.strftime('%b')\n",
        "df['year'] = df['datetime'].dt.year\n",
        "df.drop(columns=['datetime'],inplace=True)\n",
        "test['datetime'] = pd.to_datetime(test['datetime'])\n",
        "test['hour'] = test['datetime'].dt.hour\n",
        "test['day'] = test['datetime'].dt.strftime('%a')\n",
        "test['month'] = test['datetime'].dt.strftime('%b')\n",
        "test['year'] = test['datetime'].dt.year\n",
        "test.drop(columns=['datetime'],inplace=True)"
      ]
    },
    {
      "cell_type": "markdown",
      "source": [
        "convert season,weather,holiday,workingday to string"
      ],
      "metadata": {
        "id": "BwRDhJ-ToJS8"
      }
    },
    {
      "cell_type": "code",
      "execution_count": null,
      "metadata": {
        "id": "iy38qOizldkM"
      },
      "outputs": [],
      "source": [
        "df['season'] = df['season'].map({1: 'Spring', 2: 'Summer', 3: 'Fall,', 4: 'Winter'})\n",
        "df['weather'] = df['weather'].map({1: 'Clear', 2: 'Cloudy', 3: 'Light Rain', 4: 'Heavy Rain'})\n",
        "df['holiday'] = df['holiday'].map({0: 'No', 1: 'Yes'})\n",
        "df['workingday'] = df['workingday'].map({0: 'No', 1: 'Yes'})\n",
        "test['season'] = test['season'].map({1: 'Spring', 2: 'Summer', 3: 'Fall,', 4: 'Winter'})\n",
        "test['weather'] = test['weather'].map({1: 'Clear', 2: 'Cloudy', 3: 'Light Rain', 4: 'Heavy Rain'})\n",
        "test['holiday'] = test['holiday'].map({0: 'No', 1: 'Yes'})\n",
        "test['workingday'] = test['workingday'].map({0: 'No', 1: 'Yes'})"
      ]
    },
    {
      "cell_type": "code",
      "execution_count": null,
      "metadata": {
        "id": "UjKxptEvnO5n"
      },
      "outputs": [],
      "source": [
        "df.head()"
      ]
    },
    {
      "cell_type": "code",
      "source": [
        "df.info()"
      ],
      "metadata": {
        "id": "nCV93Wr7ryq1"
      },
      "execution_count": null,
      "outputs": []
    },
    {
      "cell_type": "markdown",
      "source": [
        "hour and year are not in object datatype.lets convert"
      ],
      "metadata": {
        "id": "Ns3TNAl8r3l1"
      }
    },
    {
      "cell_type": "code",
      "source": [
        "df['hour']=df['hour'].astype(object)\n",
        "test['hour']=test['hour'].astype(object)\n",
        "df['year']=df['year'].astype(object)\n",
        "test['year']=test['year'].astype(object)\n"
      ],
      "metadata": {
        "id": "B46hn6Sir8Bq"
      },
      "execution_count": null,
      "outputs": []
    },
    {
      "cell_type": "code",
      "source": [
        "df.info()"
      ],
      "metadata": {
        "id": "KW7itLvMt2jH"
      },
      "execution_count": null,
      "outputs": []
    },
    {
      "cell_type": "code",
      "execution_count": null,
      "metadata": {
        "id": "wrnxw8oloW66"
      },
      "outputs": [],
      "source": [
        "categorical=['season','holiday','workingday','weather','hour','day','month','year']\n",
        "numeric=['temp','atemp','humidity','windspeed','count']"
      ]
    },
    {
      "cell_type": "markdown",
      "metadata": {
        "id": "1KH_CXdfppYr"
      },
      "source": [
        " Plot categorical"
      ]
    },
    {
      "cell_type": "code",
      "execution_count": null,
      "metadata": {
        "id": "HgFg62SJoxan"
      },
      "outputs": [],
      "source": [
        "plt.figure(figsize=(20,20))\n",
        "for index,feature in enumerate(categorical):\n",
        "  plt.subplot(3, 4, index+1)\n",
        "  sns.barplot(x=feature, y='count', data=df)\n",
        "  plt.xlabel(f'{feature}')\n",
        "  plt.ylabel('Categorical Variable')\n",
        "  plt.title(f'{feature} vs count')\n",
        "plt.show()"
      ]
    },
    {
      "cell_type": "markdown",
      "metadata": {
        "id": "Hr2i5_m1rKVa"
      },
      "source": [
        "Plot Numeric"
      ]
    },
    {
      "cell_type": "code",
      "execution_count": null,
      "metadata": {
        "id": "QAHGLYGKqDMw"
      },
      "outputs": [],
      "source": [
        "plt.figure(figsize=(20,20))\n",
        "for index,feature in enumerate(numeric):\n",
        "  plt.subplot(3, 4, index+1)\n",
        "  sns.scatterplot(x=feature, y='count', data=df)\n",
        "  plt.xlabel(f'{feature}')\n",
        "  plt.ylabel('Numeric Variable')\n",
        "  plt.title(f'{feature} vs count')\n",
        "plt.show()"
      ]
    },
    {
      "cell_type": "markdown",
      "source": [
        "Checking for outliers"
      ],
      "metadata": {
        "id": "P2tJp53-X_FL"
      }
    },
    {
      "cell_type": "code",
      "source": [
        "plt.figure(figsize=(20,20))\n",
        "for index,feature in enumerate(numeric):\n",
        "  plt.subplot(3, 4, index+1)\n",
        "  sns.boxplot(data=df[feature])\n",
        "  plt.xlabel(feature)\n",
        "  plt.ylabel('Value')\n",
        "plt.show()"
      ],
      "metadata": {
        "id": "2obSYyoAXa6l"
      },
      "execution_count": null,
      "outputs": []
    },
    {
      "cell_type": "markdown",
      "source": [
        "removing outliers"
      ],
      "metadata": {
        "id": "rpWiRAxgYL5V"
      }
    },
    {
      "cell_type": "code",
      "source": [
        "df=df[(df['count']<600) & (df['windspeed']<=30)]"
      ],
      "metadata": {
        "id": "UN9jC20MYK_W"
      },
      "execution_count": null,
      "outputs": []
    },
    {
      "cell_type": "code",
      "source": [
        "plt.figure(figsize=(20,20))\n",
        "for index,feature in enumerate(numeric):\n",
        "  plt.subplot(3, 4, index+1)\n",
        "  sns.boxplot(data=df[feature])\n",
        "  plt.xlabel(feature)\n",
        "  plt.ylabel('Value')\n",
        "plt.show()"
      ],
      "metadata": {
        "id": "pJS17b-gY6R2"
      },
      "execution_count": null,
      "outputs": []
    },
    {
      "cell_type": "markdown",
      "source": [
        "Distribution of count"
      ],
      "metadata": {
        "id": "W6K0GI1pYBse"
      }
    },
    {
      "cell_type": "code",
      "execution_count": null,
      "metadata": {
        "id": "zaK74UrJtfkQ"
      },
      "outputs": [],
      "source": [
        "sns.displot(df['count'], kde=True, color='blue')\n",
        "plt.title('Distribution of Count')\n",
        "plt.xlabel('Value')\n",
        "plt.ylabel('Frequency')\n",
        "plt.grid(True)\n",
        "plt.show()"
      ]
    },
    {
      "cell_type": "markdown",
      "metadata": {
        "id": "mzR7yHQGuW82"
      },
      "source": [
        "Right side skewed"
      ]
    },
    {
      "cell_type": "markdown",
      "metadata": {
        "id": "Apw4Uoyiulju"
      },
      "source": [
        "Tranformation of count distribution"
      ]
    },
    {
      "cell_type": "code",
      "execution_count": null,
      "metadata": {
        "id": "6AhzYK3KuQ5T"
      },
      "outputs": [],
      "source": [
        "df['count'] = np.log1p(df['count'])\n",
        "sns.histplot(df['count'], kde=True, color='blue')\n",
        "plt.title('Log-transformed Distribution of Target Variable')\n",
        "plt.xlabel('Log-transformed Target Variable Value')\n",
        "plt.ylabel('Frequency')\n",
        "plt.grid(True)\n",
        "plt.show()"
      ]
    },
    {
      "cell_type": "markdown",
      "source": [
        "\n",
        "checking correlation"
      ],
      "metadata": {
        "id": "d9k6FDzZmC9O"
      }
    },
    {
      "cell_type": "code",
      "source": [
        "sns.heatmap(df[numeric].corr(), annot=True, cmap='coolwarm', fmt=\".2f\", linewidths=.5)\n",
        "plt.title('Correlation Matrix')\n",
        "plt.show()"
      ],
      "metadata": {
        "id": "gBmEQH2gmAzM"
      },
      "execution_count": null,
      "outputs": []
    },
    {
      "cell_type": "code",
      "execution_count": null,
      "metadata": {
        "id": "bFSWs5cYzh51"
      },
      "outputs": [],
      "source": [
        "clean_df=df.copy()"
      ]
    },
    {
      "cell_type": "code",
      "execution_count": null,
      "metadata": {
        "id": "uR_b1o29z_4t"
      },
      "outputs": [],
      "source": [
        "clean_df.head()"
      ]
    },
    {
      "cell_type": "markdown",
      "metadata": {
        "id": "miVXNph45Q65"
      },
      "source": [
        "convert categorical into numeric"
      ]
    },
    {
      "cell_type": "code",
      "source": [
        "clean_df.info()"
      ],
      "metadata": {
        "id": "wCufGiQupQgM"
      },
      "execution_count": null,
      "outputs": []
    },
    {
      "cell_type": "code",
      "source": [
        "test.info()"
      ],
      "metadata": {
        "id": "CzqNhE1SpV-d"
      },
      "execution_count": null,
      "outputs": []
    },
    {
      "cell_type": "code",
      "execution_count": null,
      "metadata": {
        "id": "3aT7Cc3L5MlG"
      },
      "outputs": [],
      "source": [
        "final_df = pd.get_dummies(clean_df, columns=categorical, drop_first=True)\n",
        "test = pd.get_dummies(test, columns=categorical, drop_first=True)"
      ]
    },
    {
      "cell_type": "code",
      "execution_count": null,
      "metadata": {
        "id": "jOvoHLoRGAH0"
      },
      "outputs": [],
      "source": [
        "final_df = final_df.astype(int)\n",
        "test = test.astype(int)"
      ]
    },
    {
      "cell_type": "markdown",
      "metadata": {
        "id": "7rxywIEL5i_Y"
      },
      "source": [
        "splitting and training"
      ]
    },
    {
      "cell_type": "code",
      "execution_count": null,
      "metadata": {
        "id": "5wn1A3GJ6V_R"
      },
      "outputs": [],
      "source": [
        "print('final_df shape:', final_df.shape)\n",
        "print('train shape:', df.shape)\n",
        "print('test shape:',  test.shape)"
      ]
    },
    {
      "cell_type": "code",
      "source": [
        "test.info()"
      ],
      "metadata": {
        "id": "vsGs4mf5qg4h"
      },
      "execution_count": null,
      "outputs": []
    },
    {
      "cell_type": "code",
      "source": [
        "final_df.info()"
      ],
      "metadata": {
        "id": "27maLODIqn0p"
      },
      "execution_count": null,
      "outputs": []
    },
    {
      "cell_type": "code",
      "execution_count": null,
      "metadata": {
        "id": "_VUoTH4uFn20"
      },
      "outputs": [],
      "source": [
        "final_df.head()"
      ]
    },
    {
      "cell_type": "markdown",
      "metadata": {
        "id": "5wudW_RP7tHy"
      },
      "source": [
        "Scaling using MinMaxScaler"
      ]
    },
    {
      "cell_type": "code",
      "execution_count": null,
      "metadata": {
        "id": "-6MpbYDj7szU"
      },
      "outputs": [],
      "source": [
        "from sklearn.preprocessing import MinMaxScaler\n",
        "def scaling(df):\n",
        "  scaler=MinMaxScaler()\n",
        "  num_cols=['temp', 'humidity', 'windspeed']\n",
        "  df[num_cols]=scaler.fit_transform(df[num_cols])\n",
        "  return df"
      ]
    },
    {
      "cell_type": "code",
      "execution_count": null,
      "metadata": {
        "id": "eBPu_xJqFHSX"
      },
      "outputs": [],
      "source": [
        "scaled_df=scaling(final_df)\n",
        "scaled_test=scaling(test)"
      ]
    },
    {
      "cell_type": "code",
      "execution_count": null,
      "metadata": {
        "id": "RudYNFy5Gl6F"
      },
      "outputs": [],
      "source": [
        "X=scaled_df.drop(columns=['count'])\n",
        "y=scaled_df['count']\n"
      ]
    },
    {
      "cell_type": "code",
      "execution_count": null,
      "metadata": {
        "id": "ZtwRQSpK7i5z"
      },
      "outputs": [],
      "source": [
        "X_train, X_test, y_train, y_test = train_test_split(X ,y, train_size=0.8, test_size=0.2,random_state=0)"
      ]
    },
    {
      "cell_type": "code",
      "execution_count": null,
      "metadata": {
        "id": "q43m7OFI7599"
      },
      "outputs": [],
      "source": [
        "def rmsle(y,pred):\n",
        "  log_y=np.log1p(y)\n",
        "  log_pred=np.log1p(pred)\n",
        "  squared_error=(log_y-log_pred)**2\n",
        "  rmsle=np.sqrt(np.mean(squared_error))\n",
        "  return rmsle\n",
        "rmsles = {}\n",
        "\n",
        "def evaluate(reg_cls, params=None):\n",
        "    print('Training model with', reg_cls, '...')\n",
        "    reg = reg_cls()\n",
        "    if params:\n",
        "        reg = GridSearchCV(reg, param_grid=params, refit=True)\n",
        "    reg.fit(X_train, y_train)\n",
        "    pred = reg.predict(X_test)\n",
        "    y_test_exp = np.expm1(y_test)\n",
        "    pred_exp = np.expm1(pred)\n",
        "    rmsles[reg_cls] = rmsle(y_test_exp, pred_exp)\n",
        "    if reg_cls in [LinearRegression,Ridge,Lasso,RandomForestRegressor,GradientBoostingRegressor]:\n",
        "      return reg,pred_exp\n",
        "    else:\n",
        "      return reg.best_estimator_, pred_exp\n",
        "\n",
        "params_xgb = {\n",
        "    'n_estimators': [100*i for i in range(1, 6)],\n",
        "    'learning_rate': [0.01, 0.1],\n",
        "    'max_depth': [4, 5, 6]\n",
        "}\n",
        "\n",
        "params_lgbm = {\n",
        "    'n_estimators': [100*i for i in range(1, 6)],\n",
        "    'learning_rate': [0.01, 0.1],\n",
        "    'max_depth': [4, 5, 6]\n",
        "}\n",
        "\n",
        "params_cb = {\n",
        "    'iterations': [100*i for i in range(1, 6)],\n",
        "    'learning_rate': [0.01, 0.1],\n",
        "    'depth': [4, 5, 6]\n",
        "}\n",
        "\n",
        "Ir_reg, pred_Ir = evaluate(LinearRegression)\n",
        "rg_reg, pred_rg = evaluate(Ridge)\n",
        "ls_reg, pred_ls = evaluate(Lasso)\n",
        "xg_reg, pred_xg = evaluate(XGBRegressor, params_xgb)\n",
        "lg_reg, pred_1g = evaluate(LGBMRegressor, params_lgbm)\n",
        "cb_reg, pred_cb = evaluate(CatBoostRegressor, params_cb)\n",
        "rf_reg, pred_rf = evaluate(RandomForestRegressor)\n",
        "gb_reg, pred_gb = evaluate(GradientBoostingRegressor)\n",
        "\n",
        "best_model = min(rmsles, key=rmsles.get)\n",
        "print('Best model:', best_model)\n",
        "print('RMSLE:', rmsles[best_model])"
      ]
    },
    {
      "cell_type": "code",
      "execution_count": null,
      "metadata": {
        "id": "-shjrIxW_Qcb"
      },
      "outputs": [],
      "source": [
        "predictions = lg_reg.predict(scaled_test)\n",
        "original_predictions = np.expm1(predictions)\n",
        "predictions_df = pd.DataFrame({'datetime': test0['datetime'], 'count': original_predictions})\n",
        "predictions_df.to_csv('predictions.csv', index=False)"
      ]
    }
  ],
  "metadata": {
    "colab": {
      "provenance": []
    },
    "kernelspec": {
      "display_name": "Python 3",
      "name": "python3"
    },
    "language_info": {
      "name": "python"
    }
  },
  "nbformat": 4,
  "nbformat_minor": 0
}
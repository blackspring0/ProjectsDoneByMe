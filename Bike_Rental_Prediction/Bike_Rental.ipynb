{
  "cells": [
    {
      "cell_type": "code",
      "source": [
        "!pip install catboost\n"
      ],
      "metadata": {
        "id": "I7W9dcPZdSyC"
      },
      "execution_count": null,
      "outputs": []
    },
    {
      "cell_type": "code",
      "source": [
        "import pandas as pd\n",
        "import numpy as np\n",
        "import seaborn as sns\n",
        "import matplotlib.pyplot as plt\n",
        "pd.set_option('display.max_rows',None)\n",
        "from sklearn.model_selection import train_test_split\n",
        "from sklearn.metrics import mean_squared_error\n",
        "from math import sqrt\n",
        "from xgboost import XGBRegressor\n",
        "from sklearn.preprocessing import StandardScaler\n",
        "from datetime import datetime as dt\n",
        "from sklearn import metrics\n",
        "from sklearn.model_selection import GridSearchCV\n",
        "from catboost import CatBoostRegressor\n",
        "import warnings\n",
        "warnings.filterwarnings(\"ignore\")"
      ],
      "metadata": {
        "id": "4WZvT_xTKrYr"
      },
      "execution_count": null,
      "outputs": []
    },
    {
      "cell_type": "markdown",
      "source": [
        "storing csv as dataframe"
      ],
      "metadata": {
        "id": "FBsSMJIEK_Ua"
      }
    },
    {
      "cell_type": "code",
      "source": [
        "train=pd.read_csv('train.csv')\n",
        "test=pd.read_csv('test.csv')"
      ],
      "metadata": {
        "id": "dh721QARKrUS"
      },
      "execution_count": null,
      "outputs": []
    },
    {
      "cell_type": "markdown",
      "source": [
        "# Data Fields\n",
        "\n",
        "**datetime** - hourly date + timestamp  \n",
        "\n",
        "**season**-  1 = spring, 2 = summer, 3 = fall, 4 = winter\n",
        "\n",
        "**holiday** - whether the day is considered a holiday\n",
        "\n",
        "**workingday** - whether the day is neither a weekend nor holiday\n",
        "\n",
        "**weather** - 1: Clear, Few clouds, Partly cloudy, Partly cloudy\n",
        "2: Mist + Cloudy, Mist + Broken clouds, Mist + Few clouds, Mist\n",
        "3: Light Snow, Light Rain + Thunderstorm + Scattered clouds, Light Rain + Scattered clouds\n",
        "4: Heavy Rain + Ice Pallets + Thunderstorm + Mist, Snow + Fog\n",
        "\n",
        "**temp** - temperature in Celsius\n",
        "\n",
        "**atemp**- \"feels like\" temperature in Celsius\n",
        "\n",
        "**humidity** - relative humidity\n",
        "\n",
        "**windspeed** - wind speed\n",
        "\n",
        "**casual** - number of non-registered user rentals initiated\n",
        "\n",
        "**registered** - number of registered user rentals initiated\n",
        "\n",
        "**count** - number of total rentals\n",
        "\n"
      ],
      "metadata": {
        "id": "KRAQIL-0NcYj"
      }
    },
    {
      "cell_type": "code",
      "source": [
        "train.head()"
      ],
      "metadata": {
        "id": "hHuJhkE3LD2-"
      },
      "execution_count": null,
      "outputs": []
    },
    {
      "cell_type": "code",
      "source": [
        "test.head()"
      ],
      "metadata": {
        "id": "XIPYGSphymiR"
      },
      "execution_count": null,
      "outputs": []
    },
    {
      "cell_type": "code",
      "source": [
        "print('Shape of Train: ',train.shape)\n",
        "print('Shape of Test: ',test.shape)\n"
      ],
      "metadata": {
        "id": "LF_UlD49LH9f"
      },
      "execution_count": null,
      "outputs": []
    },
    {
      "cell_type": "markdown",
      "source": [
        "there are two columns missing in the test.\n",
        "casual,registered,i will drop them.\n",
        "count is our target column"
      ],
      "metadata": {
        "id": "HqJ80J3tMF-x"
      }
    },
    {
      "cell_type": "code",
      "source": [
        "train.drop(columns=['casual','registered'],inplace=True)"
      ],
      "metadata": {
        "id": "Ji0kaShrNHHT"
      },
      "execution_count": null,
      "outputs": []
    },
    {
      "cell_type": "code",
      "source": [
        "print('Null values in Train: \\n',train.isnull().sum())\n",
        "print('Null values in Test: \\n',test.isnull().sum())"
      ],
      "metadata": {
        "id": "aBcJBDKrRS8w"
      },
      "execution_count": null,
      "outputs": []
    },
    {
      "cell_type": "markdown",
      "source": [
        "No missing values"
      ],
      "metadata": {
        "id": "pLMakDo3SQlC"
      }
    },
    {
      "cell_type": "markdown",
      "source": [
        "combine train and test"
      ],
      "metadata": {
        "id": "0GUj6Ye9Savb"
      }
    },
    {
      "cell_type": "code",
      "source": [
        "df=pd.concat([train,test]).reset_index(drop=True)"
      ],
      "metadata": {
        "id": "i5ac8P0nR6fc"
      },
      "execution_count": null,
      "outputs": []
    },
    {
      "cell_type": "code",
      "source": [
        "df.head()"
      ],
      "metadata": {
        "id": "fQ7HZFg_1KPk"
      },
      "execution_count": null,
      "outputs": []
    },
    {
      "cell_type": "markdown",
      "source": [
        "Lets convert datetime to month and hour"
      ],
      "metadata": {
        "id": "k0CZiZrlQ4Qz"
      }
    },
    {
      "cell_type": "code",
      "source": [
        "df['datetime'] = pd.to_datetime(df['datetime'])\n",
        "\n",
        "\n",
        "\n",
        "df['hour'] = df['datetime'].dt.hour\n",
        "\n",
        "df['month'] = df['datetime'].dt.month\n",
        "df['weekday'] = df['datetime'].dt.weekday\n",
        "\n",
        "df.drop(columns=['datetime'],inplace=True)"
      ],
      "metadata": {
        "id": "IhiwjaydRW1h"
      },
      "execution_count": null,
      "outputs": []
    },
    {
      "cell_type": "code",
      "source": [
        "df.head()"
      ],
      "metadata": {
        "id": "K5_oQ0pjRZD0"
      },
      "execution_count": null,
      "outputs": []
    },
    {
      "cell_type": "markdown",
      "source": [
        "Plotting continous variables on a heatmap"
      ],
      "metadata": {
        "id": "RzdbPYI2H8ou"
      }
    },
    {
      "cell_type": "code",
      "source": [
        "df0=df[['temp','atemp','humidity','windspeed','count']]"
      ],
      "metadata": {
        "id": "bn7qKZg22TJd"
      },
      "execution_count": null,
      "outputs": []
    },
    {
      "cell_type": "code",
      "source": [
        "correlation_matrix = df0.corr()\n",
        "plt.figure(figsize=(12, 8))\n",
        "sns.heatmap(correlation_matrix, annot=True, cmap='coolwarm', fmt=\".2f\", linewidths=.5)\n",
        "plt.title('Correlation Matrix')\n",
        "plt.show()"
      ],
      "metadata": {
        "id": "AHydTcFc19Kq"
      },
      "execution_count": null,
      "outputs": []
    },
    {
      "cell_type": "markdown",
      "source": [
        "temp and atemp seems like highly correlated,to avoid collinearity,lets drop atemp:"
      ],
      "metadata": {
        "id": "GjQYqSCWIJGN"
      }
    },
    {
      "cell_type": "code",
      "source": [
        "df.drop(columns=['atemp'],inplace=True)"
      ],
      "metadata": {
        "id": "i7cIyA8wIKi3"
      },
      "execution_count": null,
      "outputs": []
    },
    {
      "cell_type": "markdown",
      "source": [
        "lets plot categorical variables versus count"
      ],
      "metadata": {
        "id": "VFENTUBgI1nK"
      }
    },
    {
      "cell_type": "code",
      "source": [
        "categorical_variable=['season','weather','holiday','workingday','month','weekday','hour']"
      ],
      "metadata": {
        "id": "90LfSjqcI6DN"
      },
      "execution_count": null,
      "outputs": []
    },
    {
      "cell_type": "code",
      "source": [
        "plt.figure(figsize=(30,30))\n",
        "for index,feature in enumerate(categorical_variable):\n",
        "  plt.subplot(5, 4, index+1)\n",
        "  sns.barplot(x=feature, y='count', data=df)\n",
        "  plt.xlabel(f'{feature}')\n",
        "  plt.ylabel('Categorical Variable')\n",
        "  plt.title(f'{feature} vs count')\n",
        "plt.show()"
      ],
      "metadata": {
        "id": "MfM61TnhLkpc"
      },
      "execution_count": null,
      "outputs": []
    },
    {
      "cell_type": "markdown",
      "source": [
        "from plots ,its clear that weekday,holiday,workingday does not affect count of rentals.lets drop them"
      ],
      "metadata": {
        "id": "z92c7VyhXTwi"
      }
    },
    {
      "cell_type": "code",
      "source": [
        "df.drop(columns=['holiday','workingday','weekday'],inplace=True)"
      ],
      "metadata": {
        "id": "F9JYCppxkv7l"
      },
      "execution_count": null,
      "outputs": []
    },
    {
      "cell_type": "markdown",
      "source": [
        "convert month,season,weather and hour into categorical"
      ],
      "metadata": {
        "id": "a8gG_1T0zq0d"
      }
    },
    {
      "cell_type": "code",
      "source": [
        "df_with_dummies = pd.get_dummies(df, columns=['month', 'hour','season','weather'], drop_first=True)"
      ],
      "metadata": {
        "id": "cSVjrOcCzvAd"
      },
      "execution_count": null,
      "outputs": []
    },
    {
      "cell_type": "markdown",
      "source": [
        "plotting continous variables vs count"
      ],
      "metadata": {
        "id": "s6N84z3PYNgI"
      }
    },
    {
      "cell_type": "code",
      "source": [
        "continous_variable=['temp','humidity','windspeed']\n",
        "plt.figure(figsize=(30,30))\n",
        "for index,feature in enumerate(continous_variable):\n",
        "  plt.subplot(5, 4, index+1)\n",
        "  plt.scatter(df[feature], df['count'])\n",
        "  plt.xlabel(f'{feature}')\n",
        "  plt.ylabel('count')\n",
        "  plt.title('continous varible vs count')\n",
        "plt.show()"
      ],
      "metadata": {
        "id": "Qc3KSxBzYRez"
      },
      "execution_count": null,
      "outputs": []
    },
    {
      "cell_type": "markdown",
      "source": [
        "temperature and humidity has no linear relationship"
      ],
      "metadata": {
        "id": "TH5-xbbmsWnb"
      }
    },
    {
      "cell_type": "markdown",
      "source": [
        "lets convert temp into cold(upto 20),medium(21-30),hot(31-40) and\n",
        "convert humidity into comfortable(upto 55),okayish(55-65),not comfortable(above 65) and windspeed to high wind(above 20) and low wind(below 20)\n",
        "\n",
        "1-cold\n",
        "2-medium\n",
        "3-hot\n",
        "\n",
        "1.comfortable\n",
        "2.okayish\n",
        "3.not comfortable"
      ],
      "metadata": {
        "id": "2KKyL9JFg3jO"
      }
    },
    {
      "cell_type": "code",
      "source": [
        "temp_bins = [0,15,25,38,40]\n",
        "temp_labels = [1, 2, 3, 4]\n",
        "\n",
        "humidity_bins = [0, 55, 65, 100]\n",
        "humidity_labels = [1, 2, 3]\n",
        "\n",
        "windspeed_bins = [0,20,100]\n",
        "windspeed_labels = [1, 2]\n",
        "\n",
        "\n",
        "df['temp'] = pd.cut(df['temp'], bins=temp_bins, labels=temp_labels, include_lowest=True)\n",
        "\n",
        "\n",
        "df['humidity'] = pd.cut(df['humidity'], bins=humidity_bins, labels=humidity_labels, include_lowest=True)\n",
        "\n",
        "df['windspeed'] = pd.cut(df['windspeed'], bins=windspeed_bins, labels=windspeed_labels, include_lowest=True)\n",
        "\n"
      ],
      "metadata": {
        "id": "EvFmOxQfhW_2"
      },
      "execution_count": null,
      "outputs": []
    },
    {
      "cell_type": "code",
      "source": [
        "df.head()"
      ],
      "metadata": {
        "id": "lvfY1B1ah40H"
      },
      "execution_count": null,
      "outputs": []
    },
    {
      "cell_type": "markdown",
      "source": [
        "plot temp and humidity vs count again"
      ],
      "metadata": {
        "id": "Loz2_OkajE_m"
      }
    },
    {
      "cell_type": "code",
      "source": [
        "plt.figure(figsize=(30,30))\n",
        "for index,feature in enumerate(['temp','humidity']):\n",
        "  plt.subplot(5, 4, index+1)\n",
        "  sns.barplot(x=feature, y='count', data=df)\n",
        "  plt.xlabel(f'{feature}')\n",
        "  plt.ylabel('Count')\n",
        "  plt.title(f'{feature} vs count')\n",
        "plt.show()"
      ],
      "metadata": {
        "id": "0MwiG40QjI5i"
      },
      "execution_count": null,
      "outputs": []
    },
    {
      "cell_type": "markdown",
      "source": [
        "it's clear that rentals are high when temp is high and humidity is low"
      ],
      "metadata": {
        "id": "jJuCSsYcjtsc"
      }
    },
    {
      "cell_type": "code",
      "source": [
        "df.info()"
      ],
      "metadata": {
        "id": "k4v7a1VGowLm"
      },
      "execution_count": null,
      "outputs": []
    },
    {
      "cell_type": "markdown",
      "source": [
        "we need to convert category dtpye of temp and humidity to int64"
      ],
      "metadata": {
        "id": "5fVowlFko0he"
      }
    },
    {
      "cell_type": "code",
      "source": [
        "df['temp'] = df['temp'].cat.codes.astype('int64')\n",
        "df['humidity'] = df['humidity'].cat.codes.astype('int64')\n",
        "df['windspeed'] = df['windspeed'].cat.codes.astype('int64')\n",
        "\n"
      ],
      "metadata": {
        "id": "Uj9FeqX0o9vk"
      },
      "execution_count": null,
      "outputs": []
    },
    {
      "cell_type": "markdown",
      "source": [
        "lets find the feature importance also"
      ],
      "metadata": {
        "id": "JFHi7EilpNO1"
      }
    },
    {
      "cell_type": "code",
      "source": [
        "train_data = df[df['count'].notnull()]\n",
        "test_data = df[df['count'].isnull()]\n",
        "\n",
        "\n",
        "X_train = train_data.drop(columns=['count'])\n",
        "y_train = train_data['count']\n",
        "X_test = test_data.drop(columns=['count'])\n",
        "\n",
        "\n",
        "cb_rgr = CatBoostRegressor(silent=True)\n",
        "cb_rgr.fit(X_train, y_train)\n",
        "\n",
        "feature_importance = cb_rgr.feature_importances_\n",
        "\n",
        "\n",
        "feature_importance_df = pd.DataFrame({'Feature': X_train.columns, 'Importance': feature_importance})\n",
        "\n",
        "\n",
        "feature_importance_df = feature_importance_df.sort_values(by='Importance', ascending=False)\n",
        "\n",
        "plt.figure(figsize=(10, 8))\n",
        "sns.barplot(x='Importance', y='Feature', data=feature_importance_df, order=feature_importance_df.sort_values('Importance', ascending=False)['Feature'])\n",
        "plt.title('Feature Importance - Random Forest')\n",
        "plt.xlabel('Importance Score')\n",
        "plt.ylabel('Features')\n",
        "plt.show()"
      ],
      "metadata": {
        "id": "xSshkI4ipQr9"
      },
      "execution_count": null,
      "outputs": []
    },
    {
      "cell_type": "markdown",
      "source": [
        "its clear that hour of a day influence the rentals the most"
      ],
      "metadata": {
        "id": "Ra0Fd3Khp7Me"
      }
    },
    {
      "cell_type": "markdown",
      "source": [
        "this is a regression problem.so lets use the follwing with grid search\n",
        "\n",
        "\n",
        "*   XGBoost\n",
        "*   CatBoost\n",
        "*   Adaboost\n",
        "\n",
        "\n"
      ],
      "metadata": {
        "id": "cxrruJtqa-iU"
      }
    },
    {
      "cell_type": "code",
      "source": [
        "print('df_final shape:', df.shape)\n",
        "print('df_train shape:', train.shape)\n",
        "print('df_test shape:',  test.shape)"
      ],
      "metadata": {
        "id": "BN1CtXHHa9H5"
      },
      "execution_count": null,
      "outputs": []
    },
    {
      "cell_type": "code",
      "source": [
        "X_Train = pd.DataFrame(df[:10886])\n",
        "X_Test  = pd.DataFrame(df[10886:])\n",
        "Y_Train = train['count']"
      ],
      "metadata": {
        "id": "rZ3lv1m0awxA"
      },
      "execution_count": null,
      "outputs": []
    },
    {
      "cell_type": "code",
      "source": [
        "print('\\nCheck that the datasets are consistent:\\n')\n",
        "print('X_train shape', X_Train.shape)\n",
        "print('Y_train shape:', Y_Train.shape)\n",
        "print('X_test shape:',  X_Test.shape)\n"
      ],
      "metadata": {
        "id": "0_eqwWhXczKk"
      },
      "execution_count": null,
      "outputs": []
    },
    {
      "cell_type": "code",
      "source": [
        "X_Train.drop(columns=['count'],inplace=True)\n",
        "X_Test.drop(columns=['count'], inplace=True)"
      ],
      "metadata": {
        "id": "seeVbrVOc9WT"
      },
      "execution_count": null,
      "outputs": []
    },
    {
      "cell_type": "code",
      "source": [
        "scaler = StandardScaler()\n",
        "scaler.fit(X_Train)\n",
        "X_train_scaled = scaler.transform(X_Train)\n",
        "X_test_scaled = scaler.transform(X_Test)"
      ],
      "metadata": {
        "id": "TRiQGIF3YTOi"
      },
      "execution_count": null,
      "outputs": []
    },
    {
      "cell_type": "code",
      "source": [
        "X_train, X_valid, Y_train, Y_valid = train_test_split(X_train_scaled, Y_Train, train_size=0.9, test_size=0.1,random_state=0)"
      ],
      "metadata": {
        "id": "WdhPWyW0dAVi"
      },
      "execution_count": null,
      "outputs": []
    },
    {
      "cell_type": "code",
      "source": [
        "\n",
        "\n",
        "models = {\n",
        "    'XGBoost': XGBRegressor(),\n",
        "    'CatBoost': CatBoostRegressor(silent=True),\n",
        "\n",
        "\n",
        "}\n",
        "\n",
        "\n",
        "param_grids = {\n",
        "    'XGBoost': {\n",
        "        'n_estimators': [100,150, 200,250, 300],\n",
        "        'learning_rate': [0.01, 0.05, 0.1],\n",
        "        'max_depth': [4, 5,6]\n",
        "    },\n",
        "    'CatBoost': {\n",
        "        'iterations': [100,150, 200,250, 300],\n",
        "        'learning_rate': [0.01, 0.05, 0.1],\n",
        "        'depth': [5, 6, 7]\n",
        "    }\n",
        "\n",
        "    }\n",
        "\n",
        "results = {}\n",
        "for model_name, model in models.items():\n",
        "    print(f\"Training {model_name}...\")\n",
        "    grid_search = GridSearchCV(model, param_grids[model_name], scoring='neg_mean_squared_error', cv=6)\n",
        "    grid_search.fit(X_train, Y_train)\n",
        "    best_model = grid_search.best_estimator_\n",
        "\n",
        "\n",
        "    y_pred = abs(best_model.predict(X_valid))\n",
        "    rmsle = np.sqrt(metrics.mean_squared_log_error(Y_valid,y_pred))\n",
        "    results[model_name] = rmsle\n",
        "    print(f\"{model_name}: RMSLE = {rmsle}\")\n",
        "\n",
        "\n",
        "best_model_name = min(results, key=results.get)\n",
        "best_model = grid_search.best_estimator_\n",
        "print(f\"Best model: {best_model_name}\")\n",
        "best_model.fit(X_train, Y_train)\n",
        "\n",
        "\n"
      ],
      "metadata": {
        "id": "Ghnd_X8P30Ky"
      },
      "execution_count": null,
      "outputs": []
    },
    {
      "cell_type": "code",
      "source": [
        "predictions =best_model.predict(X_test_scaled)\n",
        "res_list = []\n",
        "for x in predictions:\n",
        "    if x<0:\n",
        "      res_list.append(0)\n",
        "    else:\n",
        "      res_list.append(x)\n",
        "predictions = np.array(res_list)\n",
        "predictions_df = pd.DataFrame({'datetime': test['datetime'], 'count': predictions})\n",
        "predictions_df.to_csv('predictions.csv', index=False)\n"
      ],
      "metadata": {
        "id": "g-ckEPinZ-iI"
      },
      "execution_count": null,
      "outputs": []
    }
  ],
  "metadata": {
    "colab": {
      "provenance": []
    },
    "kernelspec": {
      "display_name": "Python 3",
      "name": "python3"
    }
  },
  "nbformat": 4,
  "nbformat_minor": 0
}
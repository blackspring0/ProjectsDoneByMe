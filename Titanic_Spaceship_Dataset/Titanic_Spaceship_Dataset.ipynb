{
  "cells": [
    {
      "cell_type": "code",
      "source": [
        "import pandas as pd\n",
        "import numpy as np\n",
        "import matplotlib.pyplot as plt\n",
        "import seaborn as sns\n",
        "from sklearn.model_selection import train_test_split\n",
        "from sklearn.model_selection import GridSearchCV\n",
        "from sklearn.naive_bayes import GaussianNB\n",
        "from sklearn.ensemble import RandomForestClassifier, GradientBoostingClassifier\n",
        "from sklearn.linear_model import LogisticRegression\n",
        "from sklearn.tree import DecisionTreeClassifier\n",
        "from sklearn.metrics import accuracy_score\n",
        "from sklearn.metrics import precision_recall_fscore_support, confusion_matrix,classification_report,ConfusionMatrixDisplay\n",
        ""
      ],
      "metadata": {
        "id": "fUC62syxRn04"
      },
      "execution_count": null,
      "outputs": []
    },
    {
      "cell_type": "code",
      "source": [
        "df0=pd.read_csv('train.csv')\n",
        "df=df0.copy()\n",
        "test_df0=pd.read_csv('test.csv')\n",
        "test_df=test_df0.copy()"
      ],
      "metadata": {
        "id": "LQPFX3ytSTeQ"
      },
      "execution_count": null,
      "outputs": []
    },
    {
      "cell_type": "code",
      "source": [
        "df.head()\n",
        "df.shape"
      ],
      "metadata": {
        "id": "_fEmH1pNSdiX"
      },
      "execution_count": null,
      "outputs": []
    },
    {
      "cell_type": "code",
      "source": [
        "df.isnull().sum()"
      ],
      "metadata": {
        "id": "W0LYH39QS4dt"
      },
      "execution_count": null,
      "outputs": []
    },
    {
      "cell_type": "code",
      "source": [
        "df=df.drop(columns=['PassengerId','Name'])"
      ],
      "metadata": {
        "id": "mjnqWqEYTCBc"
      },
      "execution_count": null,
      "outputs": []
    },
    {
      "cell_type": "code",
      "source": [
        "columns_to_impute = ['Age', 'RoomService', 'FoodCourt', 'ShoppingMall', 'Spa','VRDeck']\n",
        "\n",
        "\n",
        "for col in columns_to_impute:\n",
        "    mean_value = df[col].mean()\n",
        "    df[col].fillna(mean_value, inplace=True)"
      ],
      "metadata": {
        "id": "Zm6m2AClZ8jO"
      },
      "execution_count": null,
      "outputs": []
    },
    {
      "cell_type": "code",
      "source": [
        "columns_to_impute = ['HomePlanet', 'CryoSleep', 'Cabin', 'Destination', 'VIP']\n",
        "for col in columns_to_impute:\n",
        "    mode_value = df[col].mode()[0]\n",
        "    df[col].fillna(mode_value, inplace=True)"
      ],
      "metadata": {
        "id": "soe63U7dmnPs"
      },
      "execution_count": null,
      "outputs": []
    },
    {
      "cell_type": "code",
      "source": [
        "df.head()"
      ],
      "metadata": {
        "id": "pDZ8L7PdaYYu"
      },
      "execution_count": null,
      "outputs": []
    },
    {
      "cell_type": "code",
      "source": [
        "def extract_deck_side(cabin):\n",
        "    if isinstance(cabin, str):  # Check if the value is a string\n",
        "        parts = cabin.split('/')  # Split the string by '/'\n",
        "        if len(parts) >= 3:  # Ensure that there are at least 3 parts\n",
        "            return parts[0] + parts[2][0]  # Combine the deck and side information\n",
        "    return None  # Return None for missing or incorrectly formatted values\n",
        "\n",
        "# Create a new column in the DataFrame to store the extracted string\n",
        "df['Deck_Side'] = df['Cabin'].apply(extract_deck_side)\n",
        "\n"
      ],
      "metadata": {
        "id": "e6yNs3_kaZlA"
      },
      "execution_count": null,
      "outputs": []
    },
    {
      "cell_type": "code",
      "source": [
        "df=df.drop(columns=['Cabin'])\n"
      ],
      "metadata": {
        "id": "j3IzvB12bCEo"
      },
      "execution_count": null,
      "outputs": []
    },
    {
      "cell_type": "code",
      "source": [
        "df.head()"
      ],
      "metadata": {
        "id": "F0JcIocVbC3r"
      },
      "execution_count": null,
      "outputs": []
    },
    {
      "cell_type": "code",
      "source": [
        "df=pd.get_dummies(df, columns=['CryoSleep','HomePlanet','Destination','Transported'], drop_first=True)"
      ],
      "metadata": {
        "id": "4zT3h6I9bU7M"
      },
      "execution_count": null,
      "outputs": []
    },
    {
      "cell_type": "code",
      "source": [
        "df['Deck_Side'].value_counts()"
      ],
      "metadata": {
        "id": "LSOuLMleb7KP"
      },
      "execution_count": null,
      "outputs": []
    },
    {
      "cell_type": "code",
      "source": [
        "survival_rate = df.groupby('Deck_Side')['Transported_True'].mean()\n",
        "\n",
        "# Plotting the bar graph\n",
        "survival_rate.plot(kind='bar', color='skyblue')\n",
        "\n",
        "# Adding labels and title\n",
        "plt.title('Transportation Rate by Deck/Side')\n",
        "plt.xlabel('Deck/Side')\n",
        "plt.ylabel('Transportation Rate')\n",
        "plt.xticks(rotation=0)  # Rotate x-axis labels if necessary\n",
        "\n",
        "# Displaying the plot\n",
        "plt.tight_layout()\n",
        "plt.show()"
      ],
      "metadata": {
        "id": "bGxrbNNicMg3"
      },
      "execution_count": null,
      "outputs": []
    },
    {
      "cell_type": "code",
      "source": [
        "df['Side'] = df['Deck_Side'].str[1]\n"
      ],
      "metadata": {
        "id": "71xGUWkVdJeO"
      },
      "execution_count": null,
      "outputs": []
    },
    {
      "cell_type": "code",
      "source": [
        "df.head()"
      ],
      "metadata": {
        "id": "oPAFiFsqeyhJ"
      },
      "execution_count": null,
      "outputs": []
    },
    {
      "cell_type": "code",
      "source": [
        "df=df.drop(columns=['Deck_Side'])"
      ],
      "metadata": {
        "id": "J8Pympt8ez3z"
      },
      "execution_count": null,
      "outputs": []
    },
    {
      "cell_type": "code",
      "source": [
        "df=pd.get_dummies(df, columns=['Side'], drop_first=True)"
      ],
      "metadata": {
        "id": "gHzarK6Ze9UF"
      },
      "execution_count": null,
      "outputs": []
    },
    {
      "cell_type": "code",
      "source": [
        "df['CryoSleep_True'] = df['CryoSleep_True'].astype(int)\n",
        "df['HomePlanet_Europa'] = df['HomePlanet_Europa'].astype(int)\n",
        "df['HomePlanet_Mars'] = df['HomePlanet_Mars'].astype(int)\n",
        "df['Destination_PSO J318.5-22'] = df['Destination_PSO J318.5-22'].astype(int)\n",
        "df['Destination_TRAPPIST-1e'] = df['Destination_TRAPPIST-1e'].astype(int)\n",
        "df['Transported_True'] = df['Transported_True'].astype(int)\n",
        "df['Side_S'] = df['Side_S'].astype(int)"
      ],
      "metadata": {
        "id": "UrgAFQPbfVYC"
      },
      "execution_count": null,
      "outputs": []
    },
    {
      "cell_type": "code",
      "source": [
        "df['VIP'] = df['VIP'].astype(int)"
      ],
      "metadata": {
        "id": "WmIlo_V-fb-S"
      },
      "execution_count": null,
      "outputs": []
    },
    {
      "cell_type": "code",
      "source": [
        "df['TotalSpending'] = df['RoomService'] + df['FoodCourt'] + df['ShoppingMall'] + df['Spa'] + df['VRDeck']"
      ],
      "metadata": {
        "id": "QUbMF0fAgVzv"
      },
      "execution_count": null,
      "outputs": []
    },
    {
      "cell_type": "code",
      "source": [
        "df.head()"
      ],
      "metadata": {
        "id": "b1DDyBkmgWCX"
      },
      "execution_count": null,
      "outputs": []
    },
    {
      "cell_type": "code",
      "source": [
        "average_spending = df.groupby('Transported_True')['TotalSpending'].mean()\n",
        "\n",
        "# Plotting the bar chart\n",
        "plt.figure(figsize=(8, 6))\n",
        "average_spending.plot(kind='bar', color='skyblue')\n",
        "\n",
        "# Adding labels and title\n",
        "plt.title('Average Total Spending by Transported')\n",
        "plt.xlabel('Transported')\n",
        "plt.ylabel('Average Total Spending')\n",
        "plt.xticks([0, 1], ['Not Transported', 'Transported'], rotation=0)"
      ],
      "metadata": {
        "id": "3WULpV-cgXaE"
      },
      "execution_count": null,
      "outputs": []
    },
    {
      "cell_type": "code",
      "source": [
        "df=df.drop(columns=['RoomService',\t'FoodCourt',\t'ShoppingMall',\t'Spa',\t'VRDeck'])"
      ],
      "metadata": {
        "id": "19iQ3Oz-hPV4"
      },
      "execution_count": null,
      "outputs": []
    },
    {
      "cell_type": "code",
      "source": [
        "df.head()"
      ],
      "metadata": {
        "id": "q5SZXDaGhcEZ"
      },
      "execution_count": null,
      "outputs": []
    },
    {
      "cell_type": "code",
      "source": [
        "average_spending = df.groupby('Transported_True')['Age'].mean()\n",
        "\n",
        "# Plotting the bar chart\n",
        "plt.figure(figsize=(8, 6))\n",
        "average_spending.plot(kind='bar', color='skyblue')\n",
        "\n",
        "# Adding labels and title\n",
        "plt.title('Age by Transported')\n",
        "plt.xlabel('Transported')\n",
        "plt.ylabel('Age')\n",
        "plt.xticks([0, 1], ['Not Transported', 'Transported'], rotation=0)"
      ],
      "metadata": {
        "id": "CytwZZjphcn8"
      },
      "execution_count": null,
      "outputs": []
    },
    {
      "cell_type": "code",
      "source": [
        "y = df['Transported_True']\n",
        "\n",
        "# Drop the target variable from the DataFrame to obtain the feature matrix X\n",
        "X = df.drop(columns=['Transported_True'])"
      ],
      "metadata": {
        "id": "nF84V1-djF7J"
      },
      "execution_count": null,
      "outputs": []
    },
    {
      "cell_type": "code",
      "source": [
        "X_train, X_test, y_train, y_test = train_test_split(X, y, test_size=0.2, random_state=42, stratify=y)"
      ],
      "metadata": {
        "id": "YtBB_h8jjGuX"
      },
      "execution_count": null,
      "outputs": []
    },
    {
      "cell_type": "code",
      "source": [
        "X.isnull().sum()"
      ],
      "metadata": {
        "id": "Xx0UzyIWj3Vo"
      },
      "execution_count": null,
      "outputs": []
    },
    {
      "cell_type": "code",
      "source": [
        "classifiers = {\n",
        "    'Naive Bayes': GaussianNB(),\n",
        "    'Random Forest': RandomForestClassifier(),\n",
        "    'Logistic Regression': LogisticRegression(max_iter=1000),\n",
        "    'Decision Tree': DecisionTreeClassifier(),\n",
        "    'Gradient Boosting': GradientBoostingClassifier()\n",
        "}\n",
        "\n",
        "param_grids = {\n",
        "    'Naive Bayes': {},\n",
        "    'Random Forest': {\n",
        "        'n_estimators': [100, 200, 300],\n",
        "        'max_depth': [None, 10, 20],\n",
        "        'min_samples_split': [2, 5, 10]\n",
        "    },\n",
        "    'Logistic Regression': {\n",
        "        'C': [0.001, 0.01, 0.1, 1, 10, 100],\n",
        "        'penalty': ['l2', 'none']\n",
        "    },\n",
        "    'Decision Tree': {\n",
        "        'max_depth': [None, 10, 20, 30],\n",
        "        'min_samples_split': [2, 5, 10]\n",
        "    },\n",
        "    'Gradient Boosting': {\n",
        "        'n_estimators': [100, 200, 300],\n",
        "        'learning_rate': [0.001, 0.01, 0.1],\n",
        "        'max_depth': [3, 5, 7]\n",
        "    }\n",
        "}\n",
        "results = {}\n",
        "for clf_name, clf in classifiers.items():\n",
        "    grid_search = GridSearchCV(clf, param_grids[clf_name], cv=5, scoring='accuracy', n_jobs=-1)\n",
        "    grid_search.fit(X_train, y_train)\n",
        "    best_model = grid_search.best_estimator_\n",
        "    results[clf_name] = (best_model, grid_search.best_params_)\n",
        "for clf_name, (best_model, best_params) in results.items():\n",
        "    y_pred = best_model.predict(X_test)\n",
        "    accuracy = accuracy_score(y_test, y_pred)\n",
        "    print(f\"{clf_name} - Best Model Accuracy: {accuracy}, Best Parameters: {best_params}\")\n",
        ""
      ],
      "metadata": {
        "id": "5U4uzWQmnIDR"
      },
      "execution_count": null,
      "outputs": []
    },
    {
      "cell_type": "code",
      "source": [
        "best_params_dt = results['Random Forest'][1]\n",
        "best_model_dt = RandomForestClassifier(**best_params_dt)\n",
        "best_model_dt.fit(X_train, y_train)\n",
        "y_pred_dt = best_model_dt.predict(X_test)\n",
        "accuracy_dt = accuracy_score(y_test, y_pred_dt)\n",
        "print(\"Random Forest - Test Accuracy:\", accuracy_dt)"
      ],
      "metadata": {
        "id": "hG1_stEnnK5o"
      },
      "execution_count": null,
      "outputs": []
    },
    {
      "cell_type": "code",
      "source": [
        "precision, recall, f1_score, _ = precision_recall_fscore_support(y_test, y_pred_dt, average='binary')\n",
        "conf_matrix = confusion_matrix(y_test, y_pred_dt)"
      ],
      "metadata": {
        "id": "4WuP5f1Fok7i"
      },
      "execution_count": null,
      "outputs": []
    },
    {
      "cell_type": "code",
      "source": [
        "print(\"Precision:\", precision)\n",
        "print(\"Recall:\", recall)\n",
        "print(\"F1 Score:\", f1_score)\n",
        "print(\"Classification Report:\")\n",
        "print(classification_report(y_test, y_pred_dt))\n",
        "disp = ConfusionMatrixDisplay(confusion_matrix=conf_matrix, display_labels=[0, 1])\n",
        "disp.plot(cmap='Blues', values_format='d')\n",
        "plt.title('Confusion Matrix')\n",
        "plt.show()"
      ],
      "metadata": {
        "id": "_cyiZHrTo3q3"
      },
      "execution_count": null,
      "outputs": []
    },
    {
      "cell_type": "code",
      "source": [
        "test_df.isnull().sum()"
      ],
      "metadata": {
        "id": "WR9D0Eh9o5UA"
      },
      "execution_count": null,
      "outputs": []
    },
    {
      "cell_type": "code",
      "source": [
        "test_df=test_df.drop(columns=['PassengerId','Name'])"
      ],
      "metadata": {
        "id": "SQIE1u-updTD"
      },
      "execution_count": null,
      "outputs": []
    },
    {
      "cell_type": "code",
      "source": [
        "columns_to_impute = ['Age', 'RoomService', 'FoodCourt', 'ShoppingMall', 'Spa','VRDeck']\n",
        "\n",
        "\n",
        "for col in columns_to_impute:\n",
        "    mean_value = test_df[col].mean()\n",
        "    test_df[col].fillna(mean_value, inplace=True)\n",
        "\n",
        "\n",
        "columns_to_impute = ['HomePlanet', 'CryoSleep', 'Cabin', 'Destination', 'VIP']\n",
        "for col in columns_to_impute:\n",
        "    mode_value = test_df[col].mode()[0]\n",
        "    test_df[col].fillna(mode_value, inplace=True)"
      ],
      "metadata": {
        "id": "hvb3ZTAdpjW-"
      },
      "execution_count": null,
      "outputs": []
    },
    {
      "cell_type": "code",
      "source": [
        "def extract_deck_side(cabin):\n",
        "    if isinstance(cabin, str):  # Check if the value is a string\n",
        "        parts = cabin.split('/')  # Split the string by '/'\n",
        "        if len(parts) >= 3:  # Ensure that there are at least 3 parts\n",
        "            return parts[0] + parts[2][0]  # Combine the deck and side information\n",
        "    return None  # Return None for missing or incorrectly formatted values\n",
        "\n",
        "# Create a new column in the DataFrame to store the extracted string\n",
        "test_df['Deck_Side'] = test_df['Cabin'].apply(extract_deck_side)\n"
      ],
      "metadata": {
        "id": "a8hlsKMbp01w"
      },
      "execution_count": null,
      "outputs": []
    },
    {
      "cell_type": "code",
      "source": [
        "test_df=test_df.drop(columns=['Cabin'])\n"
      ],
      "metadata": {
        "id": "3xcnXq9vp-qU"
      },
      "execution_count": null,
      "outputs": []
    },
    {
      "cell_type": "code",
      "source": [
        "test_df=pd.get_dummies(test_df, columns=['CryoSleep','HomePlanet','Destination'], drop_first=True)"
      ],
      "metadata": {
        "id": "2IAXklJwqOuh"
      },
      "execution_count": null,
      "outputs": []
    },
    {
      "cell_type": "code",
      "source": [
        "test_df.head()"
      ],
      "metadata": {
        "id": "Ey8qEgecqQkq"
      },
      "execution_count": null,
      "outputs": []
    },
    {
      "cell_type": "code",
      "source": [
        "test_df['Side'] = test_df['Deck_Side'].str[1]"
      ],
      "metadata": {
        "id": "oxJBnMq_qRdN"
      },
      "execution_count": null,
      "outputs": []
    },
    {
      "cell_type": "code",
      "source": [
        "test_df=test_df.drop(columns=['Deck_Side'])"
      ],
      "metadata": {
        "id": "R12N42M4qcLi"
      },
      "execution_count": null,
      "outputs": []
    },
    {
      "cell_type": "code",
      "source": [
        "test_df=pd.get_dummies(test_df, columns=['Side'], drop_first=True)"
      ],
      "metadata": {
        "id": "PE2EwhtuqiMy"
      },
      "execution_count": null,
      "outputs": []
    },
    {
      "cell_type": "code",
      "source": [
        "test_df['CryoSleep_True'] = test_df['CryoSleep_True'].astype(int)\n",
        "test_df['HomePlanet_Europa'] = test_df['HomePlanet_Europa'].astype(int)\n",
        "test_df['HomePlanet_Mars'] = test_df['HomePlanet_Mars'].astype(int)\n",
        "test_df['Destination_PSO J318.5-22'] = test_df['Destination_PSO J318.5-22'].astype(int)\n",
        "test_df['Destination_TRAPPIST-1e'] = test_df['Destination_TRAPPIST-1e'].astype(int)\n",
        "test_df['Side_S'] = test_df['Side_S'].astype(int)"
      ],
      "metadata": {
        "id": "6vAYRM11qkHg"
      },
      "execution_count": null,
      "outputs": []
    },
    {
      "cell_type": "code",
      "source": [
        "test_df['VIP'] = test_df['VIP'].astype(int)"
      ],
      "metadata": {
        "id": "duQV75vOqyEJ"
      },
      "execution_count": null,
      "outputs": []
    },
    {
      "cell_type": "code",
      "source": [
        "test_df['TotalSpending'] = test_df['RoomService'] + test_df['FoodCourt'] + test_df['ShoppingMall'] + test_df['Spa'] + test_df['VRDeck']\n"
      ],
      "metadata": {
        "id": "YK9iPt_Xq5t4"
      },
      "execution_count": null,
      "outputs": []
    },
    {
      "cell_type": "code",
      "source": [
        "test_df=test_df.drop(columns=['RoomService',\t'FoodCourt',\t'ShoppingMall',\t'Spa',\t'VRDeck'])"
      ],
      "metadata": {
        "id": "b7DVZcqbrAtx"
      },
      "execution_count": null,
      "outputs": []
    },
    {
      "cell_type": "code",
      "source": [
        "test_df.head()"
      ],
      "metadata": {
        "id": "1RBd6QesrCsn"
      },
      "execution_count": null,
      "outputs": []
    },
    {
      "cell_type": "code",
      "source": [
        "\n",
        "survival_probabilities = best_model_dt.predict_proba(test_df)[:, 1]\n",
        "threshold = 0.5\n",
        "predictions = (survival_probabilities > threshold)\n",
        "\n",
        "# Convert predictions to boolean values\n",
        "predictions = predictions.astype(bool)\n",
        "\n",
        "submission_df = pd.DataFrame({\n",
        "    'PassengerId': test_df0['PassengerId'],\n",
        "    'Transported': predictions\n",
        "})\n",
        "submission_df.to_csv('submission.csv', index=False)"
      ],
      "metadata": {
        "id": "7kXdGSyorEis"
      },
      "execution_count": null,
      "outputs": []
    }
  ],
  "metadata": {
    "colab": {
      "name": "Welcome To Colaboratory",
      "provenance": []
    },
    "kernelspec": {
      "display_name": "Python 3",
      "name": "python3"
    }
  },
  "nbformat": 4,
  "nbformat_minor": 0
}
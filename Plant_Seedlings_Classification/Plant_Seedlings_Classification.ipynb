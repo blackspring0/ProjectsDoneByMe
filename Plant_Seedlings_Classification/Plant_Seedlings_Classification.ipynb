{
  "cells": [
    {
      "cell_type": "code",
      "source": [
        "\n",
        "!mkdir -p ~/.kaggle\n",
        "!mv kaggle.json ~/.kaggle\n",
        "!chmod 600 ~/.kaggle/kaggle.json"
      ],
      "metadata": {
        "id": "zijaC4j-zwhy"
      },
      "execution_count": null,
      "outputs": []
    },
    {
      "cell_type": "code",
      "source": [
        "!kaggle competitions download -c plant-seedlings-classification"
      ],
      "metadata": {
        "id": "SDS8yE9uzxk4"
      },
      "execution_count": null,
      "outputs": []
    },
    {
      "cell_type": "code",
      "source": [
        "!unzip '/content/plant-seedlings-classification.zip'\n"
      ],
      "metadata": {
        "id": "geoJI6IU3JU4"
      },
      "execution_count": null,
      "outputs": []
    },
    {
      "cell_type": "code",
      "source": [
        "import os\n",
        "import pandas as pd\n",
        "import numpy as np\n",
        "import tensorflow as tf\n",
        "from tensorflow.keras.preprocessing.image import ImageDataGenerator\n",
        "from tensorflow.keras.models import Sequential\n",
        "from tensorflow.keras.layers import Conv2D, MaxPooling2D, Flatten, Dense\n",
        "from tensorflow.keras.preprocessing.image import load_img, img_to_array\n",
        "from tqdm import tqdm"
      ],
      "metadata": {
        "id": "83FUf0cE5AJI"
      },
      "execution_count": null,
      "outputs": []
    },
    {
      "cell_type": "code",
      "source": [
        "train_dir = '/content/train'\n"
      ],
      "metadata": {
        "id": "ekfHRf7DWbyo"
      },
      "execution_count": null,
      "outputs": []
    },
    {
      "cell_type": "code",
      "source": [
        "img_width, img_height = 150, 150\n",
        "batch_size = 32\n",
        "\n",
        "\n",
        "train_datagen = ImageDataGenerator(\n",
        "    rescale=1./255,\n",
        "    rotation_range=40,\n",
        "    width_shift_range=0.2,\n",
        "    height_shift_range=0.2,\n",
        "    shear_range=0.2,\n",
        "    zoom_range=0.2,\n",
        "    horizontal_flip=True\n",
        ")\n",
        "\n",
        "\n",
        "train_generator = train_datagen.flow_from_directory(\n",
        "    train_dir,\n",
        "    target_size=(img_width, img_height),\n",
        "    batch_size=batch_size,\n",
        "    class_mode='categorical'\n",
        ")\n",
        "\n",
        "\n",
        "model = Sequential([\n",
        "    Conv2D(32, (3, 3), activation='relu', input_shape=(img_width, img_height, 3)),\n",
        "    MaxPooling2D((2, 2)),\n",
        "    Conv2D(64, (3, 3), activation='relu'),\n",
        "    MaxPooling2D((2, 2)),\n",
        "    Conv2D(128, (3, 3), activation='relu'),\n",
        "    MaxPooling2D((2, 2)),\n",
        "    Conv2D(128, (3, 3), activation='relu'),\n",
        "    MaxPooling2D((2, 2)),\n",
        "    Flatten(),\n",
        "    Dense(512, activation='relu'),\n",
        "    Dense(12, activation='softmax')\n",
        "])\n",
        "\n",
        "\n",
        "model.compile(optimizer='adam',\n",
        "              loss='categorical_crossentropy',\n",
        "              metrics=['accuracy'])\n",
        "\n",
        "\n",
        "history = model.fit(\n",
        "    train_generator,\n",
        "    steps_per_epoch=train_generator.samples // batch_size,\n",
        "    epochs=10\n",
        ")\n",
        "\n",
        "\n",
        "model.save('image_classification_model.h5')"
      ],
      "metadata": {
        "id": "G-i6yl6nezpI"
      },
      "execution_count": null,
      "outputs": []
    },
    {
      "cell_type": "markdown",
      "source": [
        "Increasing epoch will improve accuracy,but since it takes a lot of time,I reduced the number of epoch and thus accuracy."
      ],
      "metadata": {
        "id": "3iv-6iRSwnbW"
      }
    },
    {
      "cell_type": "code",
      "source": [
        "unseen_dir = '/content/test'\n",
        "class_labels=['Black-grass','Charlock','Cleavers','Common Chickweed','Common wheat','Fat Hen','Loose Silky-bent','Maize','Scentless Mayweed','Shepherds Purse','Small-flowered Cranesbill','Sugar beet']\n",
        "\n",
        "\n",
        "file_names = os.listdir(unseen_dir)\n",
        "\n",
        "\n",
        "predictions_df = pd.DataFrame(columns=['file', 'species'])\n",
        "\n",
        "for file_name in tqdm(file_names, desc=\"Making predictions\"):\n",
        "\n",
        "    img_path = os.path.join(unseen_dir, file_name)\n",
        "    img = load_img(img_path, target_size=(img_width, img_height))\n",
        "    img_array = img_to_array(img)\n",
        "    img_array = img_array.reshape((1, img_width, img_height, 3))\n",
        "    img_array = img_array / 255.0\n",
        "\n",
        "\n",
        "    prediction = model.predict(img_array)\n",
        "    predicted_class_index = prediction.argmax()\n",
        "\n",
        "\n",
        "    predicted_class = class_labels[predicted_class_index]\n",
        "\n",
        "\n",
        "    predictions_df = pd.concat([predictions_df, pd.DataFrame({'file': [file_name], 'species': [predicted_class]})], ignore_index=True)\n",
        "\n",
        "\n",
        "predictions_df.to_csv('submission.csv', index=False)"
      ],
      "metadata": {
        "id": "oThB5w2Os5ap"
      },
      "execution_count": null,
      "outputs": []
    }
  ],
  "metadata": {
    "colab": {
      "provenance": []
    },
    "kernelspec": {
      "display_name": "Python 3",
      "name": "python3"
    }
  },
  "nbformat": 4,
  "nbformat_minor": 0
}
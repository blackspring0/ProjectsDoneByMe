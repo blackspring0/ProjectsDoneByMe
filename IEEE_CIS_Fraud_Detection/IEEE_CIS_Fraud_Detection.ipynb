{
  "cells": [
    {
      "cell_type": "markdown",
      "source": [
        "# Downloading dataset"
      ],
      "metadata": {
        "id": "GC2eAPbnlSC8"
      }
    },
    {
      "cell_type": "code",
      "source": [
        "!mkdir -p ~/.kaggle\n",
        "!mv kaggle.json ~/.kaggle\n",
        "!chmod 600 ~/.kaggle/kaggle.json"
      ],
      "metadata": {
        "id": "pmwINo-8MR1-"
      },
      "execution_count": null,
      "outputs": []
    },
    {
      "cell_type": "code",
      "source": [
        "!kaggle competitions download -c ieee-fraud-detection"
      ],
      "metadata": {
        "id": "lgoi3igLNCw1"
      },
      "execution_count": null,
      "outputs": []
    },
    {
      "cell_type": "code",
      "source": [
        "!unzip '/content/ieee-fraud-detection.zip'"
      ],
      "metadata": {
        "id": "Cdm31p78NNGD"
      },
      "execution_count": null,
      "outputs": []
    },
    {
      "cell_type": "markdown",
      "source": [
        "# importing modules"
      ],
      "metadata": {
        "id": "2UoxwkhulV30"
      }
    },
    {
      "cell_type": "code",
      "source": [
        "import pandas as pd\n",
        "pd.set_option('display.max_rows',None)\n",
        "import matplotlib.pyplot as plt\n",
        "import seaborn as sns\n",
        "from sklearn.preprocessing import MinMaxScaler\n",
        "from sklearn.ensemble import RandomForestClassifier\n",
        "from sklearn.model_selection import train_test_split\n",
        "from sklearn.metrics import roc_auc_score"
      ],
      "metadata": {
        "id": "mrZkplScO6kn"
      },
      "execution_count": null,
      "outputs": []
    },
    {
      "cell_type": "markdown",
      "source": [
        "# loading data to dataframe after merging"
      ],
      "metadata": {
        "id": "j6P4Lsr7lZkL"
      }
    },
    {
      "cell_type": "code",
      "source": [
        "df= pd.merge(pd.read_csv('/content/train_transaction.csv'),pd.read_csv('/content/train_identity.csv'), on='TransactionID',how='outer')\n"
      ],
      "metadata": {
        "id": "p0MTRs1FQCtB"
      },
      "execution_count": null,
      "outputs": []
    },
    {
      "cell_type": "code",
      "source": [
        "df.head()"
      ],
      "metadata": {
        "id": "ldjn81OMCEo7"
      },
      "execution_count": null,
      "outputs": []
    },
    {
      "cell_type": "code",
      "source": [
        "df.info()"
      ],
      "metadata": {
        "id": "BXh8E0dFsP5c"
      },
      "execution_count": null,
      "outputs": []
    },
    {
      "cell_type": "markdown",
      "source": [
        "# Checking for null values"
      ],
      "metadata": {
        "id": "dHMNh__0lg8j"
      }
    },
    {
      "cell_type": "code",
      "source": [
        "df.isnull().sum().sort_values(ascending=False)"
      ],
      "metadata": {
        "id": "nw9umCrcouzV"
      },
      "execution_count": null,
      "outputs": []
    },
    {
      "cell_type": "code",
      "source": [
        "dfdroplist=df.isnull().sum().sort_values(ascending=False).head(232).index.tolist()"
      ],
      "metadata": {
        "id": "xpUs2UALQ4yg"
      },
      "execution_count": null,
      "outputs": []
    },
    {
      "cell_type": "markdown",
      "source": [
        "some features has high number of missing values,we cannot work with that,so lets drop it"
      ],
      "metadata": {
        "id": "hVpv9gyYlj2T"
      }
    },
    {
      "cell_type": "code",
      "source": [
        "df.drop(columns=dfdroplist,inplace=True)"
      ],
      "metadata": {
        "id": "R4Co_E4ZoprC"
      },
      "execution_count": null,
      "outputs": []
    },
    {
      "cell_type": "code",
      "source": [
        "df.isnull().sum().sort_values(ascending=False)"
      ],
      "metadata": {
        "id": "o9Tdg6Dpzp1i"
      },
      "execution_count": null,
      "outputs": []
    },
    {
      "cell_type": "markdown",
      "source": [
        "now lets get numeric and categorical features in two lists"
      ],
      "metadata": {
        "id": "xq5UK8SvpK49"
      }
    },
    {
      "cell_type": "code",
      "source": [
        "dfcategorical=df.select_dtypes(include=('object')).columns.tolist()\n",
        "dfnumeric=df.select_dtypes(include=('int64','float64')).columns.tolist()"
      ],
      "metadata": {
        "id": "XR-EPHyApKhv"
      },
      "execution_count": null,
      "outputs": []
    },
    {
      "cell_type": "code",
      "source": [
        "for feature in dfnumeric:\n",
        "    df[feature].fillna(df[feature].mean(), inplace=True)\n",
        "for feature in dfcategorical:\n",
        "    df[feature].fillna(df[feature].mode()[0], inplace=True)\n",
        "\n"
      ],
      "metadata": {
        "id": "lYgD5mbkoqdb"
      },
      "execution_count": null,
      "outputs": []
    },
    {
      "cell_type": "code",
      "source": [
        "df.isnull().sum()"
      ],
      "metadata": {
        "id": "NOEZo_HbrL2y"
      },
      "execution_count": null,
      "outputs": []
    },
    {
      "cell_type": "markdown",
      "source": [
        "# Distribution of isfraud variable"
      ],
      "metadata": {
        "id": "qJ9K74Xlrd5C"
      }
    },
    {
      "cell_type": "code",
      "source": [
        "sns.histplot(df['isFraud'], kde=True, color='blue')\n",
        "plt.title('isfraud')\n",
        "plt.xlabel('Value')\n",
        "plt.ylabel('Frequency')\n",
        "plt.grid(True)\n",
        "plt.show()"
      ],
      "metadata": {
        "id": "GOEC3ZLcrWpo"
      },
      "execution_count": null,
      "outputs": []
    },
    {
      "cell_type": "markdown",
      "source": [
        "data is highly imbalanced.we can guess there will be outliers,but removing outliers is risky since our dataset is highly imbalanced.\n",
        "\n"
      ],
      "metadata": {
        "id": "cJycLm979C7h"
      }
    },
    {
      "cell_type": "markdown",
      "source": [
        "# Converting categorical into numeric"
      ],
      "metadata": {
        "id": "H9t96c08kYv-"
      }
    },
    {
      "cell_type": "code",
      "source": [
        "df0=pd.get_dummies(data=df,drop_first=True)\n"
      ],
      "metadata": {
        "id": "hvd3NwyEkekw"
      },
      "execution_count": null,
      "outputs": []
    },
    {
      "cell_type": "markdown",
      "source": [
        "# confirming shapes"
      ],
      "metadata": {
        "id": "ccWl3qHRS7Bx"
      }
    },
    {
      "cell_type": "code",
      "source": [
        "X=df0.drop(columns=['isFraud'])\n",
        "y=df0['isFraud']"
      ],
      "metadata": {
        "id": "VpijZrXgNneq"
      },
      "execution_count": null,
      "outputs": []
    },
    {
      "cell_type": "markdown",
      "source": [
        "# Feature importance"
      ],
      "metadata": {
        "id": "VYbhWrTqmnz6"
      }
    },
    {
      "cell_type": "code",
      "source": [
        "X_train,X_test,y_train,y_test=train_test_split(X,y,stratify=y,test_size=0.2,random_state=42)"
      ],
      "metadata": {
        "id": "iQB828Kmmmli"
      },
      "execution_count": null,
      "outputs": []
    },
    {
      "cell_type": "code",
      "source": [
        "rf_clf = RandomForestClassifier(n_estimators=100, class_weight='balanced', random_state=42)\n",
        "rf_clf.fit(X_train, y_train)\n",
        "\n",
        "feature_importance = rf_clf.feature_importances_\n",
        "\n",
        "\n",
        "feature_importance_df = pd.DataFrame({'Feature': X_train.columns, 'Importance': feature_importance})\n",
        "\n",
        "\n",
        "feature_importance_df = feature_importance_df.sort_values(by='Importance', ascending=False)\n",
        "\n",
        "plt.figure(figsize=(30, 30))\n",
        "sns.barplot(x='Importance', y='Feature', data=feature_importance_df, order=feature_importance_df.sort_values('Importance', ascending=False)['Feature'])\n",
        "plt.title('Feature Importance - Random Forest')\n",
        "plt.xlabel('Importance Score')\n",
        "plt.ylabel('Features')\n",
        "plt.show()"
      ],
      "metadata": {
        "id": "_Iik4Gc7m02n"
      },
      "execution_count": null,
      "outputs": []
    },
    {
      "cell_type": "code",
      "source": [
        "y_pred_proba = rf_clf.predict_proba(X_test)[:,1]\n",
        "roc_auc = roc_auc_score(y_test, y_pred_proba)\n",
        "\n",
        "print(\"ROC-AUC Score:\", roc_auc)"
      ],
      "metadata": {
        "id": "LLOospb7n_5k"
      },
      "execution_count": null,
      "outputs": []
    },
    {
      "cell_type": "markdown",
      "source": [
        "pick only most important features"
      ],
      "metadata": {
        "id": "RwMmrOKSbs4E"
      }
    },
    {
      "cell_type": "code",
      "source": [
        "picked_features = []\n",
        "\n",
        "for feature, importance_score in zip(X_train.columns, feature_importance):\n",
        "    if importance_score >= 0.0010:#train the model by changing this value to get highest roc\n",
        "        picked_features.append(feature)"
      ],
      "metadata": {
        "id": "nmOCPmA0RvlE"
      },
      "execution_count": null,
      "outputs": []
    },
    {
      "cell_type": "markdown",
      "source": [
        "train with the picked features"
      ],
      "metadata": {
        "id": "7MOrAsmRb6xq"
      }
    },
    {
      "cell_type": "code",
      "source": [
        "rf_clf = RandomForestClassifier(n_estimators=100, class_weight='balanced', random_state=42)\n",
        "rf_clf.fit(X_train[picked_features], y_train)\n"
      ],
      "metadata": {
        "id": "2AaCq3KpRz8D"
      },
      "execution_count": null,
      "outputs": []
    },
    {
      "cell_type": "code",
      "source": [
        "\n",
        "y_pred_proba = rf_clf.predict_proba(X_test[picked_features])[:,1]\n",
        "roc_auc = roc_auc_score(y_test, y_pred_proba)\n",
        "\n",
        "print(\"ROC-AUC Score:\", roc_auc)\n",
        ""
      ],
      "metadata": {
        "id": "03ERbm4BR1cB"
      },
      "execution_count": null,
      "outputs": []
    },
    {
      "cell_type": "markdown",
      "source": [
        "delete the variables to save memory"
      ],
      "metadata": {
        "id": "ajVFgROfcD8s"
      }
    },
    {
      "cell_type": "code",
      "source": [
        "del df\n",
        "del X_train\n",
        "del X_test\n",
        "del y_train\n",
        "del y_test\n",
        "del df0\n",
        "del X\n",
        "del y"
      ],
      "metadata": {
        "id": "x6xQEOtqT9iI"
      },
      "execution_count": null,
      "outputs": []
    },
    {
      "cell_type": "markdown",
      "source": [
        "do the same for test dataframe"
      ],
      "metadata": {
        "id": "b_AMXxeHcI9K"
      }
    },
    {
      "cell_type": "code",
      "source": [
        "test=pd.merge(pd.read_csv('/content/test_transaction.csv'),pd.read_csv('/content/test_identity.csv'), on='TransactionID',how='outer')"
      ],
      "metadata": {
        "id": "CmiwDu6nVINd"
      },
      "execution_count": null,
      "outputs": []
    },
    {
      "cell_type": "code",
      "source": [
        "test.isnull().sum().sort_values(ascending=False)"
      ],
      "metadata": {
        "id": "iY2gMff2Ws5k"
      },
      "execution_count": null,
      "outputs": []
    },
    {
      "cell_type": "code",
      "source": [
        "droplist=test.isnull().sum().sort_values(ascending=False).head(232).index.tolist()"
      ],
      "metadata": {
        "id": "f-SYm78pXFAG"
      },
      "execution_count": null,
      "outputs": []
    },
    {
      "cell_type": "code",
      "source": [
        "test.drop(columns=droplist,inplace=True)"
      ],
      "metadata": {
        "id": "Bk7SgWR1XMoZ"
      },
      "execution_count": null,
      "outputs": []
    },
    {
      "cell_type": "code",
      "source": [
        "categorical=test.select_dtypes(include=('object')).columns.tolist()\n",
        "numeric=test.select_dtypes(include=('int64','float64')).columns.tolist()"
      ],
      "metadata": {
        "id": "JCra96tXXTN5"
      },
      "execution_count": null,
      "outputs": []
    },
    {
      "cell_type": "code",
      "source": [
        "for feature in numeric:\n",
        "    test[feature].fillna(test[feature].mean(), inplace=True)\n",
        "for feature in categorical:\n",
        "    test[feature].fillna(test[feature].mode()[0], inplace=True)"
      ],
      "metadata": {
        "id": "G-MK53MLVn46"
      },
      "execution_count": null,
      "outputs": []
    },
    {
      "cell_type": "code",
      "source": [
        "test.isnull().sum().sort_values(ascending=False)"
      ],
      "metadata": {
        "id": "1-_SyhcwXzHz"
      },
      "execution_count": null,
      "outputs": []
    },
    {
      "cell_type": "code",
      "source": [
        "test0=pd.get_dummies(data=test,drop_first=True)"
      ],
      "metadata": {
        "id": "mEXobOOeX8H8"
      },
      "execution_count": null,
      "outputs": []
    },
    {
      "cell_type": "markdown",
      "source": [
        "# Make submission file"
      ],
      "metadata": {
        "id": "GCjaUJcucNkT"
      }
    },
    {
      "cell_type": "code",
      "source": [
        "test_predictions = rf_clf.predict(test0[picked_features])\n",
        "submission_df = pd.DataFrame({'TransactionID': test['TransactionID'], 'isFraud': test_predictions})\n",
        "\n",
        "submission_df.to_csv('submission.csv', index=False)"
      ],
      "metadata": {
        "id": "ZpMR-4SXrMy4"
      },
      "execution_count": null,
      "outputs": []
    }
  ],
  "metadata": {
    "colab": {
      "provenance": []
    },
    "kernelspec": {
      "display_name": "Python 3",
      "name": "python3"
    }
  },
  "nbformat": 4,
  "nbformat_minor": 0
}
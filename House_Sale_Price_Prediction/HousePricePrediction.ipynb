{
  "nbformat": 4,
  "nbformat_minor": 0,
  "metadata": {
    "colab": {
      "provenance": []
    },
    "kernelspec": {
      "name": "python3",
      "display_name": "Python 3"
    },
    "language_info": {
      "name": "python"
    }
  },
  "cells": [
    {
      "cell_type": "code",
      "execution_count": null,
      "metadata": {
        "id": "M3EBxK_aPg3Y"
      },
      "outputs": [],
      "source": [
        "import pandas as pd\n",
        "import numpy as np\n",
        "from math import sqrt\n",
        "pd.set_option('display.max_rows', None)\n",
        "import matplotlib.pyplot as plt\n",
        "from sklearn.preprocessing import OneHotEncoder\n",
        "from sklearn.model_selection import train_test_split, GridSearchCV\n",
        "from xgboost import XGBRegressor\n",
        "from lightgbm import LGBMRegressor\n",
        "from catboost import CatBoostRegressor\n",
        "from sklearn.metrics import mean_squared_error\n",
        "from sklearn.model_selection import train_test_split"
      ]
    },
    {
      "cell_type": "code",
      "source": [
        "train=pd.read_csv('train.csv')\n",
        "test=pd.read_csv('test.csv')\n"
      ],
      "metadata": {
        "id": "uXe3lMJtP0Rt"
      },
      "execution_count": null,
      "outputs": []
    },
    {
      "cell_type": "code",
      "source": [
        "\n",
        "df = [train,test]\n",
        "df_combined = pd.concat(df).reset_index(drop=True)"
      ],
      "metadata": {
        "id": "ubrA55gbDbt2"
      },
      "execution_count": null,
      "outputs": []
    },
    {
      "cell_type": "code",
      "source": [
        "train.isnull().sum()"
      ],
      "metadata": {
        "id": "KPLX-t22qFcY"
      },
      "execution_count": null,
      "outputs": []
    },
    {
      "cell_type": "code",
      "source": [
        "columns_to_drop=['Id','Alley','PoolQC','Fence','MiscFeature','FireplaceQu','MasVnrType']\n",
        "df_combined.drop(columns=columns_to_drop, inplace=True)"
      ],
      "metadata": {
        "id": "O_KSKo-M1OmF"
      },
      "execution_count": null,
      "outputs": []
    },
    {
      "cell_type": "code",
      "source": [
        "df_combined.isnull().sum()"
      ],
      "metadata": {
        "id": "QTKHFPY50T80"
      },
      "execution_count": null,
      "outputs": []
    },
    {
      "cell_type": "code",
      "source": [
        "object_columns = train.select_dtypes(include=['object']).columns.tolist()\n",
        "integer_columns = train.select_dtypes(include=['int64']).columns.tolist()\n",
        "float_columns = train.select_dtypes(include=['float64']).columns.tolist()\n",
        "print(\"Objects : \",object_columns)\n",
        "print(\"integers :\",integer_columns)\n",
        "print(\"float :\",float_columns)\n",
        "\n"
      ],
      "metadata": {
        "id": "emVqKahcrEW6"
      },
      "execution_count": null,
      "outputs": []
    },
    {
      "cell_type": "code",
      "source": [
        "object_features_to_impute=['Utilities','MSZoning','BsmtQual','BsmtCond','BsmtExposure','BsmtFinType1','BsmtFinType2','Exterior1st','Electrical','Exterior2nd','KitchenQual', 'Functional','GarageType','GarageFinish','GarageQual', 'GarageCond','SaleType']\n",
        "float_features_to_impute=['LotFrontage','MasVnrArea','BsmtFinSF1','BsmtFinSF2','BsmtUnfSF','TotalBsmtSF','BsmtFullBath', 'BsmtHalfBath','GarageYrBlt', 'GarageCars', 'GarageArea']"
      ],
      "metadata": {
        "id": "BcH01xwxfq3X"
      },
      "execution_count": null,
      "outputs": []
    },
    {
      "cell_type": "code",
      "source": [
        "for feature in float_features_to_impute:\n",
        "    df_combined[feature].fillna(df_combined[feature].mean(), inplace=True)\n",
        "\n",
        "\n",
        "for feature in object_features_to_impute:\n",
        "    mode_val = df_combined[feature].mode()[0]\n",
        "    df_combined[feature].fillna(mode_val, inplace=True)\n"
      ],
      "metadata": {
        "id": "rfvLOOlMgaye"
      },
      "execution_count": null,
      "outputs": []
    },
    {
      "cell_type": "code",
      "source": [
        "df_combined.isnull().sum()"
      ],
      "metadata": {
        "id": "wKpBpSEHgrr8"
      },
      "execution_count": null,
      "outputs": []
    },
    {
      "cell_type": "code",
      "source": [
        "df_combined.info()"
      ],
      "metadata": {
        "id": "BZPQ7l_Xg5N0"
      },
      "execution_count": null,
      "outputs": []
    },
    {
      "cell_type": "code",
      "source": [
        "object_columns = df_combined.select_dtypes(include=['object']).columns.tolist()\n",
        "integer_columns = df_combined.select_dtypes(include=['int64']).columns.tolist()\n",
        "float_columns = df_combined.select_dtypes(include=['float64']).columns.tolist()\n",
        "\n"
      ],
      "metadata": {
        "id": "_utD_pyX1j5V"
      },
      "execution_count": null,
      "outputs": []
    },
    {
      "cell_type": "code",
      "source": [
        "\n",
        "OH_encoder = OneHotEncoder(sparse=False)\n",
        "OH_encoder.fit(df_combined[object_columns])\n",
        "\n",
        "OH_feature_names = OH_encoder.get_feature_names_out(object_columns)\n",
        "\n",
        "OH_cols = pd.DataFrame(OH_encoder.transform(df_combined[object_columns]), columns=OH_feature_names, index=df_combined.index)\n",
        "\n",
        "df_final = df_combined.drop(object_columns, axis=1)\n",
        "\n",
        "df_final = pd.concat([df_final, OH_cols], axis=1)\n"
      ],
      "metadata": {
        "id": "bloFKYe42_ah"
      },
      "execution_count": null,
      "outputs": []
    },
    {
      "cell_type": "code",
      "source": [
        "df_final.head()"
      ],
      "metadata": {
        "id": "A2nPRSk43YVY"
      },
      "execution_count": null,
      "outputs": []
    },
    {
      "cell_type": "code",
      "source": [
        "print('df_final shape:', df_final.shape)\n",
        "print('df_train shape:', train.shape)\n",
        "print('df_test shape:',  test.shape)\n",
        "\n",
        "X_Train = pd.DataFrame(df_final[:1460])\n",
        "X_Test  = pd.DataFrame(df_final[1460:])\n",
        "Y_Train = train['SalePrice']\n",
        "\n",
        "print('\\nCheck that the datasets are consistent:\\n')\n",
        "print('X_train shape', X_Train.shape)\n",
        "print('Y_train shape:', Y_Train.shape)\n",
        "print('X_test shape:',  X_Test.shape)\n",
        ""
      ],
      "metadata": {
        "id": "Tu1Y3JgtyG20"
      },
      "execution_count": null,
      "outputs": []
    },
    {
      "cell_type": "code",
      "source": [
        "X_Train.drop(columns=['SalePrice'],inplace=True)\n",
        "X_Test.drop(columns=['SalePrice'], inplace=True)"
      ],
      "metadata": {
        "id": "cVnpYPhgNu94"
      },
      "execution_count": null,
      "outputs": []
    },
    {
      "cell_type": "code",
      "source": [
        "X_train, X_valid, Y_train, Y_valid = train_test_split(X_Train, Y_Train, train_size=0.8, test_size=0.2,random_state=0)"
      ],
      "metadata": {
        "id": "UdsZicFYf99h"
      },
      "execution_count": null,
      "outputs": []
    },
    {
      "cell_type": "code",
      "source": [
        "\n",
        "models = {\n",
        "    'XGBoost': XGBRegressor(),\n",
        "    'LightGBM': LGBMRegressor(),\n",
        "    'CatBoost': CatBoostRegressor(silent=True)\n",
        "}\n",
        "\n",
        "\n",
        "param_grids = {\n",
        "    'XGBoost': {\n",
        "        'n_estimators': [100, 200, 300],\n",
        "        'learning_rate': [0.01, 0.1, 0.2],\n",
        "        'max_depth': [3, 4, 5]\n",
        "    },\n",
        "    'LightGBM': {\n",
        "        'n_estimators': [100, 200, 300],\n",
        "        'learning_rate': [0.01, 0.1, 0.2],\n",
        "        'max_depth': [3, 4, 5]\n",
        "    },\n",
        "    'CatBoost': {\n",
        "        'iterations': [100, 200, 300],\n",
        "        'learning_rate': [0.01, 0.1, 0.2],\n",
        "        'depth': [3, 4, 5]\n",
        "    }\n",
        "}\n",
        "\n",
        "\n",
        "results = {}\n",
        "for model_name, model in models.items():\n",
        "    print(f\"Training {model_name}...\")\n",
        "    grid_search = GridSearchCV(model, param_grids[model_name], scoring='neg_mean_squared_error', cv=5)\n",
        "    grid_search.fit(X_train, Y_train)\n",
        "    best_model = grid_search.best_estimator_\n",
        "\n",
        "\n",
        "    y_pred = best_model.predict(X_valid)\n",
        "    rmse = np.sqrt(mean_squared_error(Y_valid, y_pred))\n",
        "    results[model_name] = rmse\n",
        "    print(f\"{model_name}: RMSE = {rmse}\")\n",
        "\n",
        "\n",
        "best_model_name = min(results, key=results.get)\n",
        "best_model = grid_search.best_estimator_\n",
        "print(f\"Best model: {best_model_name}\")\n",
        "\n",
        "\n",
        "best_model.fit(X_train, Y_train)\n",
        "\n",
        "\n",
        "test_predictions = best_model.predict(X_Test)"
      ],
      "metadata": {
        "id": "JJPmgdrnYXad"
      },
      "execution_count": null,
      "outputs": []
    },
    {
      "cell_type": "code",
      "source": [
        "submission_df = pd.DataFrame({'Id': test['Id'], 'SalePrice': test_predictions})\n",
        "\n",
        "submission_df.to_csv('submission.csv', index=False)"
      ],
      "metadata": {
        "id": "v09iecnxaIeC"
      },
      "execution_count": null,
      "outputs": []
    }
  ]
}